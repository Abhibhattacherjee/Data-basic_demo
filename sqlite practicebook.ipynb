{
 "cells": [
  {
   "cell_type": "code",
   "execution_count": 2,
   "id": "37f31c8f",
   "metadata": {},
   "outputs": [],
   "source": [
    "import  sqlite3"
   ]
  },
  {
   "cell_type": "code",
   "execution_count": 3,
   "id": "35650c8f",
   "metadata": {},
   "outputs": [],
   "source": [
    "Sysdb=sqlite3.connect('flower_database.db')"
   ]
  },
  {
   "cell_type": "code",
   "execution_count": 4,
   "id": "2f2c82b1",
   "metadata": {},
   "outputs": [],
   "source": [
    "cur= Sysdb.cursor()  #  here  we  have  created  a  cursor "
   ]
  },
  {
   "cell_type": "code",
   "execution_count": 5,
   "id": "42761fcd",
   "metadata": {},
   "outputs": [
    {
     "ename": "OperationalError",
     "evalue": "table species already exists",
     "output_type": "error",
     "traceback": [
      "\u001b[1;31m---------------------------------------------------------------------------\u001b[0m",
      "\u001b[1;31mOperationalError\u001b[0m                          Traceback (most recent call last)",
      "\u001b[1;32m~\\AppData\\Local\\Temp/ipykernel_5644/39818104.py\u001b[0m in \u001b[0;36m<module>\u001b[1;34m\u001b[0m\n\u001b[1;32m----> 1\u001b[1;33m \u001b[0mcur\u001b[0m\u001b[1;33m.\u001b[0m\u001b[0mexecute\u001b[0m\u001b[1;33m(\u001b[0m\u001b[1;34m'create table species(name varchar(35) primary key, size int, types text)'\u001b[0m\u001b[1;33m)\u001b[0m  \u001b[1;31m# here  we have  created  a  table\u001b[0m\u001b[1;33m\u001b[0m\u001b[1;33m\u001b[0m\u001b[0m\n\u001b[0m",
      "\u001b[1;31mOperationalError\u001b[0m: table species already exists"
     ]
    }
   ],
   "source": [
    "cur.execute('create table species(name varchar(35) primary key, size int, types text)')  # here  we have  created  a  table  "
   ]
  },
  {
   "cell_type": "code",
   "execution_count": 6,
   "id": "f9189562",
   "metadata": {},
   "outputs": [
    {
     "ename": "IntegrityError",
     "evalue": "UNIQUE constraint failed: species.name",
     "output_type": "error",
     "traceback": [
      "\u001b[1;31m---------------------------------------------------------------------------\u001b[0m",
      "\u001b[1;31mIntegrityError\u001b[0m                            Traceback (most recent call last)",
      "\u001b[1;32m~\\AppData\\Local\\Temp/ipykernel_5644/4275906878.py\u001b[0m in \u001b[0;36m<module>\u001b[1;34m\u001b[0m\n\u001b[1;32m----> 1\u001b[1;33m \u001b[0mcur\u001b[0m\u001b[1;33m.\u001b[0m\u001b[0mexecute\u001b[0m\u001b[1;33m(\u001b[0m\u001b[1;34m'insert into species(name, size,types)  values(\"Versicolor\", 25,2)'\u001b[0m\u001b[1;33m)\u001b[0m\u001b[1;33m\u001b[0m\u001b[1;33m\u001b[0m\u001b[0m\n\u001b[0m\u001b[0;32m      2\u001b[0m \u001b[0mdb\u001b[0m\u001b[1;33m.\u001b[0m\u001b[0mcommit\u001b[0m\u001b[1;33m(\u001b[0m\u001b[1;33m)\u001b[0m\u001b[1;33m\u001b[0m\u001b[1;33m\u001b[0m\u001b[0m\n",
      "\u001b[1;31mIntegrityError\u001b[0m: UNIQUE constraint failed: species.name"
     ]
    }
   ],
   "source": [
    "cur.execute('insert into species(name, size,types)  values(\"Versicolor\", 25,2)')\n",
    "db.commit()"
   ]
  },
  {
   "cell_type": "code",
   "execution_count": 7,
   "id": "6d819dfa",
   "metadata": {},
   "outputs": [
    {
     "name": "stdout",
     "output_type": "stream",
     "text": [
      "-1 Record(s) inserted\n"
     ]
    }
   ],
   "source": [
    "print(cur.rowcount, 'Record(s) inserted')  #   to check how  many  records  are  being   recorded    in  the  table"
   ]
  },
  {
   "cell_type": "code",
   "execution_count": 8,
   "id": "30397874",
   "metadata": {},
   "outputs": [
    {
     "data": {
      "text/plain": [
       "[('Versicolor', 25, '2'),\n",
       " ('varginica', 22, '3'),\n",
       " ('varonica', 21, '4'),\n",
       " ('mullina', 29, '5'),\n",
       " ('malina', 23, '2'),\n",
       " ('arenocia', 17, '5'),\n",
       " ('Arinama', 19, '5'),\n",
       " ('Sakima', 30, '2')]"
      ]
     },
     "execution_count": 8,
     "metadata": {},
     "output_type": "execute_result"
    }
   ],
   "source": [
    "\n",
    "\n",
    "\n",
    "\n",
    "results =cur.execute('select*from species')\n",
    "results.fetchall()"
   ]
  },
  {
   "cell_type": "code",
   "execution_count": 9,
   "id": "d66ca841",
   "metadata": {},
   "outputs": [
    {
     "ename": "IntegrityError",
     "evalue": "UNIQUE constraint failed: species.name",
     "output_type": "error",
     "traceback": [
      "\u001b[1;31m---------------------------------------------------------------------------\u001b[0m",
      "\u001b[1;31mIntegrityError\u001b[0m                            Traceback (most recent call last)",
      "\u001b[1;32m~\\AppData\\Local\\Temp/ipykernel_5644/2169288062.py\u001b[0m in \u001b[0;36m<module>\u001b[1;34m\u001b[0m\n\u001b[0;32m      1\u001b[0m \u001b[1;31m# addding   more  Data   in to the  table\u001b[0m\u001b[1;33m\u001b[0m\u001b[1;33m\u001b[0m\u001b[0m\n\u001b[1;32m----> 2\u001b[1;33m \u001b[0mcur\u001b[0m\u001b[1;33m.\u001b[0m\u001b[0mexecute\u001b[0m\u001b[1;33m(\u001b[0m\u001b[1;34m'insert into species values(\"varginica\", 22,3)'\u001b[0m\u001b[1;33m)\u001b[0m\u001b[1;33m\u001b[0m\u001b[1;33m\u001b[0m\u001b[0m\n\u001b[0m\u001b[0;32m      3\u001b[0m \u001b[0mSysdb\u001b[0m\u001b[1;33m.\u001b[0m\u001b[0mcommit\u001b[0m\u001b[1;33m(\u001b[0m\u001b[1;33m)\u001b[0m\u001b[1;33m\u001b[0m\u001b[1;33m\u001b[0m\u001b[0m\n",
      "\u001b[1;31mIntegrityError\u001b[0m: UNIQUE constraint failed: species.name"
     ]
    }
   ],
   "source": [
    "# addding   more  Data   in to the  table \n",
    "cur.execute('insert into species values(\"varginica\", 22,3)')\n",
    "Sysdb.commit()"
   ]
  },
  {
   "cell_type": "code",
   "execution_count": 10,
   "id": "e35415ab",
   "metadata": {},
   "outputs": [
    {
     "data": {
      "text/plain": [
       "[('Versicolor', 25, '2'),\n",
       " ('varginica', 22, '3'),\n",
       " ('varonica', 21, '4'),\n",
       " ('mullina', 29, '5'),\n",
       " ('malina', 23, '2'),\n",
       " ('arenocia', 17, '5'),\n",
       " ('Arinama', 19, '5'),\n",
       " ('Sakima', 30, '2')]"
      ]
     },
     "execution_count": 10,
     "metadata": {},
     "output_type": "execute_result"
    }
   ],
   "source": [
    "results=cur.execute('select*from species')\n",
    "results.fetchall()"
   ]
  },
  {
   "cell_type": "code",
   "execution_count": 11,
   "id": "e4f9d960",
   "metadata": {},
   "outputs": [
    {
     "ename": "IntegrityError",
     "evalue": "UNIQUE constraint failed: species.name",
     "output_type": "error",
     "traceback": [
      "\u001b[1;31m---------------------------------------------------------------------------\u001b[0m",
      "\u001b[1;31mIntegrityError\u001b[0m                            Traceback (most recent call last)",
      "\u001b[1;32m~\\AppData\\Local\\Temp/ipykernel_5644/377097044.py\u001b[0m in \u001b[0;36m<module>\u001b[1;34m\u001b[0m\n\u001b[1;32m----> 1\u001b[1;33m \u001b[0mcur\u001b[0m\u001b[1;33m.\u001b[0m\u001b[0mexecute\u001b[0m\u001b[1;33m(\u001b[0m\u001b[1;34m'insert into species values (\"varonica\", 21,4)'\u001b[0m\u001b[1;33m)\u001b[0m\u001b[1;33m\u001b[0m\u001b[1;33m\u001b[0m\u001b[0m\n\u001b[0m\u001b[0;32m      2\u001b[0m \u001b[0mSysdb\u001b[0m\u001b[1;33m.\u001b[0m\u001b[0mcommit\u001b[0m\u001b[1;33m(\u001b[0m\u001b[1;33m)\u001b[0m\u001b[1;33m\u001b[0m\u001b[1;33m\u001b[0m\u001b[0m\n",
      "\u001b[1;31mIntegrityError\u001b[0m: UNIQUE constraint failed: species.name"
     ]
    }
   ],
   "source": [
    "cur.execute('insert into species values (\"varonica\", 21,4)')\n",
    "Sysdb.commit()"
   ]
  },
  {
   "cell_type": "code",
   "execution_count": 12,
   "id": "49ad8134",
   "metadata": {},
   "outputs": [
    {
     "ename": "IntegrityError",
     "evalue": "UNIQUE constraint failed: species.name",
     "output_type": "error",
     "traceback": [
      "\u001b[1;31m---------------------------------------------------------------------------\u001b[0m",
      "\u001b[1;31mIntegrityError\u001b[0m                            Traceback (most recent call last)",
      "\u001b[1;32m~\\AppData\\Local\\Temp/ipykernel_5644/533969766.py\u001b[0m in \u001b[0;36m<module>\u001b[1;34m\u001b[0m\n\u001b[1;32m----> 1\u001b[1;33m \u001b[0mcur\u001b[0m\u001b[1;33m.\u001b[0m\u001b[0mexecute\u001b[0m\u001b[1;33m(\u001b[0m\u001b[1;34m'insert into species values(\"mullina\",29,5)'\u001b[0m\u001b[1;33m)\u001b[0m\u001b[1;33m\u001b[0m\u001b[1;33m\u001b[0m\u001b[0m\n\u001b[0m\u001b[0;32m      2\u001b[0m \u001b[0mSysdb\u001b[0m\u001b[1;33m.\u001b[0m\u001b[0mcommit\u001b[0m\u001b[1;33m(\u001b[0m\u001b[1;33m)\u001b[0m\u001b[1;33m\u001b[0m\u001b[1;33m\u001b[0m\u001b[0m\n",
      "\u001b[1;31mIntegrityError\u001b[0m: UNIQUE constraint failed: species.name"
     ]
    }
   ],
   "source": [
    "\n",
    "cur.execute('insert into species values(\"mullina\",29,5)')\n",
    "Sysdb.commit()"
   ]
  },
  {
   "cell_type": "code",
   "execution_count": 13,
   "id": "126fe440",
   "metadata": {},
   "outputs": [
    {
     "data": {
      "text/plain": [
       "[('Versicolor', 25, '2'),\n",
       " ('varginica', 22, '3'),\n",
       " ('varonica', 21, '4'),\n",
       " ('mullina', 29, '5'),\n",
       " ('malina', 23, '2'),\n",
       " ('arenocia', 17, '5'),\n",
       " ('Arinama', 19, '5'),\n",
       " ('Sakima', 30, '2')]"
      ]
     },
     "execution_count": 13,
     "metadata": {},
     "output_type": "execute_result"
    }
   ],
   "source": [
    "results= cur.execute('select*from species')\n",
    "results.fetchall()"
   ]
  },
  {
   "cell_type": "code",
   "execution_count": 14,
   "id": "61670c53",
   "metadata": {},
   "outputs": [],
   "source": [
    "#  so  above  we  have  a  database   known  as   flower   where   we  will  be   doing  the  further  operations"
   ]
  },
  {
   "cell_type": "code",
   "execution_count": 15,
   "id": "825311fb",
   "metadata": {},
   "outputs": [
    {
     "ename": "IntegrityError",
     "evalue": "UNIQUE constraint failed: species.name",
     "output_type": "error",
     "traceback": [
      "\u001b[1;31m---------------------------------------------------------------------------\u001b[0m",
      "\u001b[1;31mIntegrityError\u001b[0m                            Traceback (most recent call last)",
      "\u001b[1;32m~\\AppData\\Local\\Temp/ipykernel_5644/1436197018.py\u001b[0m in \u001b[0;36m<module>\u001b[1;34m\u001b[0m\n\u001b[1;32m----> 1\u001b[1;33m \u001b[0mcur\u001b[0m\u001b[1;33m.\u001b[0m\u001b[0mexecute\u001b[0m\u001b[1;33m(\u001b[0m\u001b[1;34m'insert into species values(\"malina\",23,2),(\"arenocia\",17,5)'\u001b[0m\u001b[1;33m)\u001b[0m\u001b[1;33m\u001b[0m\u001b[1;33m\u001b[0m\u001b[0m\n\u001b[0m\u001b[0;32m      2\u001b[0m \u001b[0mSysdb\u001b[0m\u001b[1;33m.\u001b[0m\u001b[0mcommit\u001b[0m\u001b[1;33m(\u001b[0m\u001b[1;33m)\u001b[0m\u001b[1;33m\u001b[0m\u001b[1;33m\u001b[0m\u001b[0m\n",
      "\u001b[1;31mIntegrityError\u001b[0m: UNIQUE constraint failed: species.name"
     ]
    }
   ],
   "source": [
    "cur.execute('insert into species values(\"malina\",23,2),(\"arenocia\",17,5)')\n",
    "Sysdb.commit()"
   ]
  },
  {
   "cell_type": "code",
   "execution_count": 16,
   "id": "8378a009",
   "metadata": {},
   "outputs": [
    {
     "data": {
      "text/plain": [
       "[('Versicolor', 25, '2'),\n",
       " ('varginica', 22, '3'),\n",
       " ('varonica', 21, '4'),\n",
       " ('mullina', 29, '5'),\n",
       " ('malina', 23, '2'),\n",
       " ('arenocia', 17, '5'),\n",
       " ('Arinama', 19, '5'),\n",
       " ('Sakima', 30, '2')]"
      ]
     },
     "execution_count": 16,
     "metadata": {},
     "output_type": "execute_result"
    }
   ],
   "source": [
    "results= cur.execute('select*from species')\n",
    "results.fetchall()   #  so  this  is  the  way  to add  multi;ple   records   from one   query"
   ]
  },
  {
   "cell_type": "code",
   "execution_count": 17,
   "id": "c41f489c",
   "metadata": {},
   "outputs": [
    {
     "ename": "IntegrityError",
     "evalue": "UNIQUE constraint failed: species.name",
     "output_type": "error",
     "traceback": [
      "\u001b[1;31m---------------------------------------------------------------------------\u001b[0m",
      "\u001b[1;31mIntegrityError\u001b[0m                            Traceback (most recent call last)",
      "\u001b[1;32m~\\AppData\\Local\\Temp/ipykernel_5644/3478427749.py\u001b[0m in \u001b[0;36m<module>\u001b[1;34m\u001b[0m\n\u001b[1;32m----> 1\u001b[1;33m \u001b[0mcur\u001b[0m\u001b[1;33m.\u001b[0m\u001b[0mexecute\u001b[0m\u001b[1;33m(\u001b[0m\u001b[1;34m'insert into species values(\"Arinama\",19,5),(\"Sakima\",30,2)'\u001b[0m\u001b[1;33m)\u001b[0m\u001b[1;33m\u001b[0m\u001b[1;33m\u001b[0m\u001b[0m\n\u001b[0m\u001b[0;32m      2\u001b[0m \u001b[0mSysdb\u001b[0m\u001b[1;33m.\u001b[0m\u001b[0mcommit\u001b[0m\u001b[1;33m(\u001b[0m\u001b[1;33m)\u001b[0m\u001b[1;33m\u001b[0m\u001b[1;33m\u001b[0m\u001b[0m\n",
      "\u001b[1;31mIntegrityError\u001b[0m: UNIQUE constraint failed: species.name"
     ]
    }
   ],
   "source": [
    "\n",
    "\n",
    "\n",
    "cur.execute('insert into species values(\"Arinama\",19,5),(\"Sakima\",30,2)')\n",
    "Sysdb.commit()"
   ]
  },
  {
   "cell_type": "code",
   "execution_count": 18,
   "id": "1f3a4423",
   "metadata": {},
   "outputs": [
    {
     "data": {
      "text/plain": [
       "[('Versicolor', 25, '2'),\n",
       " ('varginica', 22, '3'),\n",
       " ('varonica', 21, '4'),\n",
       " ('mullina', 29, '5'),\n",
       " ('malina', 23, '2'),\n",
       " ('arenocia', 17, '5'),\n",
       " ('Arinama', 19, '5'),\n",
       " ('Sakima', 30, '2')]"
      ]
     },
     "execution_count": 18,
     "metadata": {},
     "output_type": "execute_result"
    }
   ],
   "source": [
    "results=cur.execute('select*from species')\n",
    "results.fetchall()  #  so now we  have  inserted  many   data   inside   the  database  flowers  "
   ]
  },
  {
   "cell_type": "markdown",
   "id": "71f4d1f1",
   "metadata": {},
   "source": [
    "NOW  CREATING THE  ABOVE  DATABASE  INSIDE  A FOLDER "
   ]
  },
  {
   "cell_type": "code",
   "execution_count": 19,
   "id": "8fd7c24d",
   "metadata": {},
   "outputs": [],
   "source": [
    "import sqlite3"
   ]
  },
  {
   "cell_type": "code",
   "execution_count": 20,
   "id": "1bd48aa2",
   "metadata": {},
   "outputs": [],
   "source": [
    "\n",
    "\n",
    "db1= sqlite3.connect(r\"E:\\mydatabase\\flowersdb.db\")"
   ]
  },
  {
   "cell_type": "code",
   "execution_count": 21,
   "id": "eba761dc",
   "metadata": {},
   "outputs": [],
   "source": [
    "cur1 = db1.cursor()"
   ]
  },
  {
   "cell_type": "code",
   "execution_count": 22,
   "id": "091e8f9d",
   "metadata": {},
   "outputs": [
    {
     "ename": "OperationalError",
     "evalue": "table flwnames already exists",
     "output_type": "error",
     "traceback": [
      "\u001b[1;31m---------------------------------------------------------------------------\u001b[0m",
      "\u001b[1;31mOperationalError\u001b[0m                          Traceback (most recent call last)",
      "\u001b[1;32m~\\AppData\\Local\\Temp/ipykernel_5644/2487890175.py\u001b[0m in \u001b[0;36m<module>\u001b[1;34m\u001b[0m\n\u001b[1;32m----> 1\u001b[1;33m \u001b[0mcur1\u001b[0m\u001b[1;33m.\u001b[0m\u001b[0mexecute\u001b[0m\u001b[1;33m(\u001b[0m\u001b[1;34m'create  table flwnames(Name varchar(30) primary key, size  int, shape int, numers int)'\u001b[0m\u001b[1;33m)\u001b[0m\u001b[1;33m\u001b[0m\u001b[1;33m\u001b[0m\u001b[0m\n\u001b[0m",
      "\u001b[1;31mOperationalError\u001b[0m: table flwnames already exists"
     ]
    }
   ],
   "source": [
    "\n",
    "\n",
    "\n",
    "\n",
    "cur1.execute('create  table flwnames(Name varchar(30) primary key, size  int, shape int, numers int)')"
   ]
  },
  {
   "cell_type": "code",
   "execution_count": 23,
   "id": "506e863d",
   "metadata": {},
   "outputs": [
    {
     "ename": "IntegrityError",
     "evalue": "UNIQUE constraint failed: flwnames.Name",
     "output_type": "error",
     "traceback": [
      "\u001b[1;31m---------------------------------------------------------------------------\u001b[0m",
      "\u001b[1;31mIntegrityError\u001b[0m                            Traceback (most recent call last)",
      "\u001b[1;32m~\\AppData\\Local\\Temp/ipykernel_5644/3766369339.py\u001b[0m in \u001b[0;36m<module>\u001b[1;34m\u001b[0m\n\u001b[1;32m----> 1\u001b[1;33m \u001b[0mcur1\u001b[0m\u001b[1;33m.\u001b[0m\u001b[0mexecute\u001b[0m\u001b[1;33m(\u001b[0m\u001b[1;34m'insert into  flwnames(Name,size,shape,numers)  values(\"Versicolour\",25,2,1)'\u001b[0m\u001b[1;33m)\u001b[0m\u001b[1;33m\u001b[0m\u001b[1;33m\u001b[0m\u001b[0m\n\u001b[0m\u001b[0;32m      2\u001b[0m \u001b[0mdb1\u001b[0m\u001b[1;33m.\u001b[0m\u001b[0mcommit\u001b[0m\u001b[1;33m(\u001b[0m\u001b[1;33m)\u001b[0m\u001b[1;33m\u001b[0m\u001b[1;33m\u001b[0m\u001b[0m\n",
      "\u001b[1;31mIntegrityError\u001b[0m: UNIQUE constraint failed: flwnames.Name"
     ]
    }
   ],
   "source": [
    "cur1.execute('insert into  flwnames(Name,size,shape,numers)  values(\"Versicolour\",25,2,1)')\n",
    "db1.commit()"
   ]
  },
  {
   "cell_type": "code",
   "execution_count": 24,
   "id": "f9eebd1b",
   "metadata": {},
   "outputs": [
    {
     "data": {
      "text/plain": [
       "[('Versicolour', 25, 2, 1), ('romania', 28, 2, 5), ('chiranana', 30, 3, 5)]"
      ]
     },
     "execution_count": 24,
     "metadata": {},
     "output_type": "execute_result"
    }
   ],
   "source": [
    "\n",
    "\n",
    "\n",
    "results= cur1.execute('select*from flwnames')\n",
    "results.fetchall()"
   ]
  },
  {
   "cell_type": "code",
   "execution_count": 25,
   "id": "03ef0418",
   "metadata": {},
   "outputs": [
    {
     "ename": "IntegrityError",
     "evalue": "UNIQUE constraint failed: flwnames.Name",
     "output_type": "error",
     "traceback": [
      "\u001b[1;31m---------------------------------------------------------------------------\u001b[0m",
      "\u001b[1;31mIntegrityError\u001b[0m                            Traceback (most recent call last)",
      "\u001b[1;32m~\\AppData\\Local\\Temp/ipykernel_5644/1885078799.py\u001b[0m in \u001b[0;36m<module>\u001b[1;34m\u001b[0m\n\u001b[1;32m----> 1\u001b[1;33m \u001b[0mcur1\u001b[0m \u001b[1;33m.\u001b[0m\u001b[0mexecute\u001b[0m\u001b[1;33m(\u001b[0m\u001b[1;34m'insert into flwnames values(\"romania\",28,2,5), (\"chiranana\",30,3,5)'\u001b[0m\u001b[1;33m)\u001b[0m\u001b[1;33m\u001b[0m\u001b[1;33m\u001b[0m\u001b[0m\n\u001b[0m\u001b[0;32m      2\u001b[0m \u001b[0mdb1\u001b[0m\u001b[1;33m.\u001b[0m\u001b[0mcommit\u001b[0m\u001b[1;33m(\u001b[0m\u001b[1;33m)\u001b[0m\u001b[1;33m\u001b[0m\u001b[1;33m\u001b[0m\u001b[0m\n",
      "\u001b[1;31mIntegrityError\u001b[0m: UNIQUE constraint failed: flwnames.Name"
     ]
    }
   ],
   "source": [
    "cur1 .execute('insert into flwnames values(\"romania\",28,2,5), (\"chiranana\",30,3,5)')\n",
    "db1.commit()"
   ]
  },
  {
   "cell_type": "code",
   "execution_count": 26,
   "id": "eb2b3d89",
   "metadata": {},
   "outputs": [
    {
     "data": {
      "text/plain": [
       "[('Versicolour', 25, 2, 1), ('romania', 28, 2, 5), ('chiranana', 30, 3, 5)]"
      ]
     },
     "execution_count": 26,
     "metadata": {},
     "output_type": "execute_result"
    }
   ],
   "source": [
    "\n",
    "results = cur1.execute('select*from flwnames')\n",
    "results.fetchall()"
   ]
  },
  {
   "cell_type": "markdown",
   "id": "4aa4fe5c",
   "metadata": {},
   "source": [
    "ACCESSISNG  ELEMENTS  INSIDE  THE  SQLITE3"
   ]
  },
  {
   "cell_type": "code",
   "execution_count": 27,
   "id": "e5382f6c",
   "metadata": {},
   "outputs": [
    {
     "data": {
      "text/plain": [
       "[('Versicolour', 25), ('romania', 28), ('chiranana', 30)]"
      ]
     },
     "execution_count": 27,
     "metadata": {},
     "output_type": "execute_result"
    }
   ],
   "source": [
    "results =cur1.execute('select Name,size from flwnames')\n",
    "results.fetchall()   #  so it  showed   me  only  2  things  which i  said"
   ]
  },
  {
   "cell_type": "code",
   "execution_count": 28,
   "id": "58f915e7",
   "metadata": {},
   "outputs": [
    {
     "name": "stdout",
     "output_type": "stream",
     "text": [
      "('Versicolour', 25, 2, 1)\n"
     ]
    }
   ],
   "source": [
    "results = cur1.execute('select*from flwnames  where size=25')\n",
    "for i in results:\n",
    "    print(i)\n"
   ]
  },
  {
   "cell_type": "code",
   "execution_count": 29,
   "id": "ac345f2e",
   "metadata": {},
   "outputs": [
    {
     "name": "stdout",
     "output_type": "stream",
     "text": [
      "('Versicolour', 25, 2, 1)\n",
      "('romania', 28, 2, 5)\n"
     ]
    }
   ],
   "source": [
    "\n",
    "results = cur1.execute('select*from flwnames limit 2')\n",
    "for i in results:\n",
    "    print(i)  # limit  will show  the  limited data  which  is  will be  inserted   in  the  code "
   ]
  },
  {
   "cell_type": "markdown",
   "id": "c7e1bb2c",
   "metadata": {},
   "source": [
    "ORDER CLAUSE"
   ]
  },
  {
   "cell_type": "code",
   "execution_count": 30,
   "id": "668375ca",
   "metadata": {},
   "outputs": [
    {
     "data": {
      "text/plain": [
       "[('Versicolour', 25, 2, 1), ('chiranana', 30, 3, 5), ('romania', 28, 2, 5)]"
      ]
     },
     "execution_count": 30,
     "metadata": {},
     "output_type": "execute_result"
    }
   ],
   "source": [
    "results =cur1.execute('select*from flwnames order  by name asc')\n",
    "results.fetchall()"
   ]
  },
  {
   "cell_type": "code",
   "execution_count": 31,
   "id": "1215c62e",
   "metadata": {},
   "outputs": [
    {
     "name": "stdout",
     "output_type": "stream",
     "text": [
      "('Versicolour', 25, 2, 1)\n",
      "('romania', 28, 2, 5)\n",
      "('chiranana', 30, 3, 5)\n"
     ]
    }
   ],
   "source": [
    "results = cur1.execute('select*from flwnames order by size asc')\n",
    "for i in results:\n",
    "    print(i)"
   ]
  },
  {
   "cell_type": "code",
   "execution_count": 32,
   "id": "da2159e4",
   "metadata": {},
   "outputs": [
    {
     "data": {
      "text/plain": [
       "[('romania', 28, 2, 5), ('chiranana', 30, 3, 5), ('Versicolour', 25, 2, 1)]"
      ]
     },
     "execution_count": 32,
     "metadata": {},
     "output_type": "execute_result"
    }
   ],
   "source": [
    "\n",
    "\n",
    "results =cur1.execute('select*from flwnames order  by name desc')\n",
    "results.fetchall()"
   ]
  },
  {
   "cell_type": "markdown",
   "id": "78cb823b",
   "metadata": {},
   "source": [
    "AND  OPERATOR IN SQL"
   ]
  },
  {
   "cell_type": "code",
   "execution_count": 34,
   "id": "65576a9c",
   "metadata": {},
   "outputs": [
    {
     "data": {
      "text/plain": [
       "[('romania', 28, 2, 5)]"
      ]
     },
     "execution_count": 34,
     "metadata": {},
     "output_type": "execute_result"
    }
   ],
   "source": [
    "results =cur1.execute('select*from flwnames  where Name=\"romania\" and  size =28')\n",
    "results.fetchall()"
   ]
  },
  {
   "cell_type": "code",
   "execution_count": 37,
   "id": "41f03c51",
   "metadata": {},
   "outputs": [
    {
     "data": {
      "text/plain": [
       "[('chiranana', 30, 3, 5)]"
      ]
     },
     "execution_count": 37,
     "metadata": {},
     "output_type": "execute_result"
    }
   ],
   "source": [
    "results = cur1.execute('select*from flwnames  where Name=\"chiranana\"and  size=30')\n",
    "results.fetchall()"
   ]
  },
  {
   "cell_type": "markdown",
   "id": "97d5ac57",
   "metadata": {},
   "source": [
    "OR OPERATOR "
   ]
  },
  {
   "cell_type": "code",
   "execution_count": 41,
   "id": "5f33461d",
   "metadata": {},
   "outputs": [
    {
     "data": {
      "text/plain": [
       "('Versicolour', 25, 2, 1)"
      ]
     },
     "execution_count": 41,
     "metadata": {},
     "output_type": "execute_result"
    }
   ],
   "source": [
    "results = cur1.execute('select*from flwnames where Name=\"Versicolour\" or  size=28')\n",
    "results.fetchone()"
   ]
  },
  {
   "cell_type": "code",
   "execution_count": 44,
   "id": "6be30328",
   "metadata": {},
   "outputs": [
    {
     "data": {
      "text/plain": [
       "('romania', 28, 2, 5)"
      ]
     },
     "execution_count": 44,
     "metadata": {},
     "output_type": "execute_result"
    }
   ],
   "source": [
    "results = cur1.execute('select*from flwnames where Name=\"romania\" or  size =20')\n",
    "results.fetchone()\n",
    "    "
   ]
  },
  {
   "cell_type": "markdown",
   "id": "e0d3671f",
   "metadata": {},
   "source": [
    "BETWEEN OPERATORS"
   ]
  },
  {
   "cell_type": "code",
   "execution_count": 46,
   "id": "5345a743",
   "metadata": {},
   "outputs": [
    {
     "name": "stdout",
     "output_type": "stream",
     "text": [
      "('romania', 28, 2, 5)\n",
      "('chiranana', 30, 3, 5)\n"
     ]
    }
   ],
   "source": [
    "results =cur1.execute('select*from flwnames where size between 26 and 30')\n",
    "for i in  results:\n",
    "    print(i)"
   ]
  },
  {
   "cell_type": "markdown",
   "id": "504362fd",
   "metadata": {},
   "source": [
    "AGGREGRATE  FUNCTIONS"
   ]
  },
  {
   "cell_type": "code",
   "execution_count": 47,
   "id": "cd6047de",
   "metadata": {},
   "outputs": [
    {
     "data": {
      "text/plain": [
       "[(30,)]"
      ]
     },
     "execution_count": 47,
     "metadata": {},
     "output_type": "execute_result"
    }
   ],
   "source": [
    "results =cur1.execute('select max(size) from flwnames')\n",
    "results.fetchall()"
   ]
  },
  {
   "cell_type": "code",
   "execution_count": 48,
   "id": "2cdb00df",
   "metadata": {},
   "outputs": [
    {
     "data": {
      "text/plain": [
       "[(25,)]"
      ]
     },
     "execution_count": 48,
     "metadata": {},
     "output_type": "execute_result"
    }
   ],
   "source": [
    "results =cur1.execute('select min(size) from flwnames')\n",
    "results.fetchall()"
   ]
  },
  {
   "cell_type": "code",
   "execution_count": 49,
   "id": "cacb5ece",
   "metadata": {},
   "outputs": [
    {
     "data": {
      "text/plain": [
       "[(27.666666666666668,)]"
      ]
     },
     "execution_count": 49,
     "metadata": {},
     "output_type": "execute_result"
    }
   ],
   "source": [
    "results =cur1.execute('select avg(size) from flwnames')\n",
    "results.fetchall()"
   ]
  },
  {
   "cell_type": "code",
   "execution_count": 50,
   "id": "512580da",
   "metadata": {},
   "outputs": [
    {
     "data": {
      "text/plain": [
       "[(3,)]"
      ]
     },
     "execution_count": 50,
     "metadata": {},
     "output_type": "execute_result"
    }
   ],
   "source": [
    "results =cur1.execute('select count(shape) from flwnames')\n",
    "results.fetchall()"
   ]
  },
  {
   "cell_type": "code",
   "execution_count": 51,
   "id": "87fc02b0",
   "metadata": {},
   "outputs": [
    {
     "data": {
      "text/plain": [
       "[(83,)]"
      ]
     },
     "execution_count": 51,
     "metadata": {},
     "output_type": "execute_result"
    }
   ],
   "source": [
    "results =cur1.execute('select sum(size) from flwnames')\n",
    "results.fetchall()"
   ]
  },
  {
   "cell_type": "markdown",
   "id": "7cbc7a72",
   "metadata": {},
   "source": [
    "NULL  AND NOT NULL FUNCTIONS "
   ]
  },
  {
   "cell_type": "code",
   "execution_count": 52,
   "id": "df654e7f",
   "metadata": {},
   "outputs": [
    {
     "data": {
      "text/plain": [
       "[]"
      ]
     },
     "execution_count": 52,
     "metadata": {},
     "output_type": "execute_result"
    }
   ],
   "source": [
    "results  = cur1.execute('select*from flwnames  where size is null')\n",
    "results.fetchall()"
   ]
  },
  {
   "cell_type": "code",
   "execution_count": 53,
   "id": "5b5e141a",
   "metadata": {},
   "outputs": [
    {
     "data": {
      "text/plain": [
       "[('Versicolour', 25, 2, 1), ('romania', 28, 2, 5), ('chiranana', 30, 3, 5)]"
      ]
     },
     "execution_count": 53,
     "metadata": {},
     "output_type": "execute_result"
    }
   ],
   "source": [
    "results  = cur1.execute('select*from flwnames  where size is not null')\n",
    "results.fetchall()"
   ]
  },
  {
   "cell_type": "markdown",
   "id": "2cfdaaa8",
   "metadata": {},
   "source": [
    "LIKE  OPERATORS \n",
    "\n",
    "In case  if i want to see something  very specific  like  the  1st  alphabhet \n",
    "we use  the  Like  operator   there "
   ]
  },
  {
   "cell_type": "code",
   "execution_count": 56,
   "id": "435fb9ec",
   "metadata": {},
   "outputs": [
    {
     "data": {
      "text/plain": [
       "('Versicolour', 25, 2, 1)"
      ]
     },
     "execution_count": 56,
     "metadata": {},
     "output_type": "execute_result"
    }
   ],
   "source": [
    "results = cur1.execute (\"select*from flwnames  where Name like 'V%'\")\n",
    "results.fetchone()  #  this is  used  to see  the  first  alphabhet  starting   with  this  v"
   ]
  },
  {
   "cell_type": "code",
   "execution_count": null,
   "id": "7ef51629",
   "metadata": {},
   "outputs": [],
   "source": []
  },
  {
   "cell_type": "code",
   "execution_count": null,
   "id": "12dbba6c",
   "metadata": {},
   "outputs": [],
   "source": []
  },
  {
   "cell_type": "code",
   "execution_count": null,
   "id": "da4973c8",
   "metadata": {},
   "outputs": [],
   "source": []
  },
  {
   "cell_type": "code",
   "execution_count": null,
   "id": "e3a040c7",
   "metadata": {},
   "outputs": [],
   "source": []
  },
  {
   "cell_type": "code",
   "execution_count": null,
   "id": "65d5314e",
   "metadata": {},
   "outputs": [],
   "source": []
  },
  {
   "cell_type": "code",
   "execution_count": null,
   "id": "0dc8cdd8",
   "metadata": {},
   "outputs": [],
   "source": []
  },
  {
   "cell_type": "code",
   "execution_count": null,
   "id": "7f7844b8",
   "metadata": {},
   "outputs": [],
   "source": []
  },
  {
   "cell_type": "code",
   "execution_count": null,
   "id": "ea8aceb5",
   "metadata": {},
   "outputs": [],
   "source": []
  },
  {
   "cell_type": "code",
   "execution_count": null,
   "id": "69619806",
   "metadata": {},
   "outputs": [],
   "source": []
  },
  {
   "cell_type": "code",
   "execution_count": null,
   "id": "ccb00678",
   "metadata": {},
   "outputs": [],
   "source": []
  },
  {
   "cell_type": "code",
   "execution_count": null,
   "id": "e9f35416",
   "metadata": {},
   "outputs": [],
   "source": []
  },
  {
   "cell_type": "code",
   "execution_count": null,
   "id": "37e734ca",
   "metadata": {},
   "outputs": [],
   "source": []
  },
  {
   "cell_type": "markdown",
   "id": "802480b7",
   "metadata": {},
   "source": [
    "Refrential  integrity"
   ]
  },
  {
   "cell_type": "code",
   "execution_count": 1,
   "id": "d071ca59",
   "metadata": {},
   "outputs": [],
   "source": [
    "#  connecting   two  different  database  with  the   help   of  primary  key and   the   foreign  key  is  called  refrential integrity\n",
    "import sqlite3"
   ]
  },
  {
   "cell_type": "code",
   "execution_count": 5,
   "id": "26990892",
   "metadata": {},
   "outputs": [],
   "source": [
    "db = sqlite3.connect(r\"E:\\MySqlite3\\System_database.db\")"
   ]
  },
  {
   "cell_type": "code",
   "execution_count": 6,
   "id": "0bbe7509",
   "metadata": {},
   "outputs": [],
   "source": [
    "cur= db.cursor()"
   ]
  },
  {
   "cell_type": "code",
   "execution_count": 17,
   "id": "dbed9ae3",
   "metadata": {},
   "outputs": [
    {
     "ename": "OperationalError",
     "evalue": "table software already exists",
     "output_type": "error",
     "traceback": [
      "\u001b[1;31m---------------------------------------------------------------------------\u001b[0m",
      "\u001b[1;31mOperationalError\u001b[0m                          Traceback (most recent call last)",
      "\u001b[1;32m~\\AppData\\Local\\Temp/ipykernel_3852/4173948915.py\u001b[0m in \u001b[0;36m<module>\u001b[1;34m\u001b[0m\n\u001b[1;32m----> 1\u001b[1;33m \u001b[0mcur\u001b[0m\u001b[1;33m.\u001b[0m\u001b[0mexecute\u001b[0m\u001b[1;33m(\u001b[0m\u001b[1;34m\"create  table software('Name varchar(30) primary key,date int, size int')\"\u001b[0m\u001b[1;33m)\u001b[0m\u001b[1;33m\u001b[0m\u001b[1;33m\u001b[0m\u001b[0m\n\u001b[0m",
      "\u001b[1;31mOperationalError\u001b[0m: table software already exists"
     ]
    }
   ],
   "source": [
    "cur.execute(\"create  table software('Name varchar(30) primary key,date int, size int')\")\n"
   ]
  },
  {
   "cell_type": "code",
   "execution_count": 18,
   "id": "716ddd15",
   "metadata": {},
   "outputs": [
    {
     "ename": "OperationalError",
     "evalue": "table hardware already exists",
     "output_type": "error",
     "traceback": [
      "\u001b[1;31m---------------------------------------------------------------------------\u001b[0m",
      "\u001b[1;31mOperationalError\u001b[0m                          Traceback (most recent call last)",
      "\u001b[1;32m~\\AppData\\Local\\Temp/ipykernel_3852/361475934.py\u001b[0m in \u001b[0;36m<module>\u001b[1;34m\u001b[0m\n\u001b[1;32m----> 1\u001b[1;33m \u001b[0mcur\u001b[0m\u001b[1;33m.\u001b[0m\u001b[0mexecute\u001b[0m\u001b[1;33m(\u001b[0m\u001b[1;34m'create table hardware(Name varchar(30), design text,foreign key (Name) references software(Name))'\u001b[0m\u001b[1;33m)\u001b[0m\u001b[1;33m\u001b[0m\u001b[1;33m\u001b[0m\u001b[0m\n\u001b[0m\u001b[0;32m      2\u001b[0m \u001b[1;33m\u001b[0m\u001b[0m\n\u001b[0;32m      3\u001b[0m     \u001b[1;31m# so here  we  have  cretaed  a foreign key  with the  help   of the  above  table  primary  key\u001b[0m\u001b[1;33m\u001b[0m\u001b[1;33m\u001b[0m\u001b[0m\n",
      "\u001b[1;31mOperationalError\u001b[0m: table hardware already exists"
     ]
    }
   ],
   "source": [
    "cur.execute('create table hardware(Name varchar(30), design text,foreign key (Name) references software(Name))')\n",
    "            \n",
    "    # so here  we  have  cretaed  a foreign key  with the  help   of the  above  table  primary  key"
   ]
  },
  {
   "cell_type": "code",
   "execution_count": 19,
   "id": "830b177d",
   "metadata": {},
   "outputs": [
    {
     "ename": "OperationalError",
     "evalue": "table software has 1 columns but 3 values were supplied",
     "output_type": "error",
     "traceback": [
      "\u001b[1;31m---------------------------------------------------------------------------\u001b[0m",
      "\u001b[1;31mOperationalError\u001b[0m                          Traceback (most recent call last)",
      "\u001b[1;32m~\\AppData\\Local\\Temp/ipykernel_3852/1475615232.py\u001b[0m in \u001b[0;36m<module>\u001b[1;34m\u001b[0m\n\u001b[1;32m----> 1\u001b[1;33m \u001b[0mcur\u001b[0m\u001b[1;33m.\u001b[0m\u001b[0mexecute\u001b[0m\u001b[1;33m(\u001b[0m\u001b[1;34m'insert into software values(\"vscode\",2020,28),(\"adobe-ps\",2022,30),(\"premier-pro\",2021,90), (\"Git\",2022,100)'\u001b[0m\u001b[1;33m)\u001b[0m\u001b[1;33m\u001b[0m\u001b[1;33m\u001b[0m\u001b[0m\n\u001b[0m",
      "\u001b[1;31mOperationalError\u001b[0m: table software has 1 columns but 3 values were supplied"
     ]
    }
   ],
   "source": [
    "cur.execute('insert into software values(\"vscode\",2020,28),(\"adobe-ps\",2022,30),(\"premier-pro\",2021,90), (\"Git\",2022,100)')"
   ]
  },
  {
   "cell_type": "code",
   "execution_count": 25,
   "id": "1b9841d7",
   "metadata": {},
   "outputs": [
    {
     "name": "stdout",
     "output_type": "stream",
     "text": [
      "Name varchar(30) primary key,date int, size int\n"
     ]
    }
   ],
   "source": [
    "\n",
    "data=cur.execute('''SELECT * FROM  software''')\n",
    "for column in data.description:\n",
    "    print(column[0])"
   ]
  },
  {
   "cell_type": "code",
   "execution_count": null,
   "id": "ee261517",
   "metadata": {},
   "outputs": [],
   "source": []
  }
 ],
 "metadata": {
  "kernelspec": {
   "display_name": "Python 3 (ipykernel)",
   "language": "python",
   "name": "python3"
  },
  "language_info": {
   "codemirror_mode": {
    "name": "ipython",
    "version": 3
   },
   "file_extension": ".py",
   "mimetype": "text/x-python",
   "name": "python",
   "nbconvert_exporter": "python",
   "pygments_lexer": "ipython3",
   "version": "3.9.7"
  }
 },
 "nbformat": 4,
 "nbformat_minor": 5
}
