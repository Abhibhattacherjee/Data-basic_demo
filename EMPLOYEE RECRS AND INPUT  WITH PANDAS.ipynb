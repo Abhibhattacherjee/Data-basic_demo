{
 "cells": [
  {
   "cell_type": "markdown",
   "id": "ab095526",
   "metadata": {},
   "source": [
    "# EMPLOYEE DATA LIST 2021"
   ]
  },
  {
   "cell_type": "markdown",
   "id": "845d4093",
   "metadata": {},
   "source": [
    "THE FOLLOWING DATA WILL SHOW EMPLOYEE RECORDINGS AND ALSO GIVE THE OPTION TO PROVIDE USER TO GIVE THERE OWN DATA."
   ]
  },
  {
   "cell_type": "code",
   "execution_count": 7,
   "id": "43c8de1d",
   "metadata": {},
   "outputs": [],
   "source": [
    "employees = 9"
   ]
  },
  {
   "cell_type": "code",
   "execution_count": 8,
   "id": "382ab357",
   "metadata": {},
   "outputs": [
    {
     "data": {
      "text/plain": [
       "9"
      ]
     },
     "execution_count": 8,
     "metadata": {},
     "output_type": "execute_result"
    }
   ],
   "source": [
    "employees"
   ]
  },
  {
   "cell_type": "code",
   "execution_count": 9,
   "id": "2390009f",
   "metadata": {},
   "outputs": [],
   "source": [
    "import pandas as pd"
   ]
  },
  {
   "cell_type": "code",
   "execution_count": 15,
   "id": "22279eda",
   "metadata": {},
   "outputs": [
    {
     "data": {
      "text/plain": [
       "'C:\\\\Users\\\\HP'"
      ]
     },
     "execution_count": 15,
     "metadata": {},
     "output_type": "execute_result"
    }
   ],
   "source": [
    "import os\n",
    "os.getcwd()\n",
    "\n"
   ]
  },
  {
   "cell_type": "code",
   "execution_count": 17,
   "id": "0e56c21b",
   "metadata": {},
   "outputs": [],
   "source": [
    "empdata1= pd.read_excel('empdata1.xlsx')"
   ]
  },
  {
   "cell_type": "code",
   "execution_count": 18,
   "id": "60ca6306",
   "metadata": {},
   "outputs": [
    {
     "data": {
      "text/html": [
       "<div>\n",
       "<style scoped>\n",
       "    .dataframe tbody tr th:only-of-type {\n",
       "        vertical-align: middle;\n",
       "    }\n",
       "\n",
       "    .dataframe tbody tr th {\n",
       "        vertical-align: top;\n",
       "    }\n",
       "\n",
       "    .dataframe thead th {\n",
       "        text-align: right;\n",
       "    }\n",
       "</style>\n",
       "<table border=\"1\" class=\"dataframe\">\n",
       "  <thead>\n",
       "    <tr style=\"text-align: right;\">\n",
       "      <th></th>\n",
       "      <th>Employees name</th>\n",
       "      <th>empid</th>\n",
       "      <th>Branch</th>\n",
       "      <th>location</th>\n",
       "      <th>Dept.</th>\n",
       "      <th>emp.Retency</th>\n",
       "      <th>Salary(P.A)</th>\n",
       "      <th>Bonus yearly</th>\n",
       "      <th>wage rate/day</th>\n",
       "    </tr>\n",
       "  </thead>\n",
       "  <tbody>\n",
       "    <tr>\n",
       "      <th>0</th>\n",
       "      <td>Abhishek kumar</td>\n",
       "      <td>2245</td>\n",
       "      <td>H.O</td>\n",
       "      <td>Jamshedpur</td>\n",
       "      <td>Sales</td>\n",
       "      <td>5yrs</td>\n",
       "      <td>250000</td>\n",
       "      <td>yes</td>\n",
       "      <td>694.43</td>\n",
       "    </tr>\n",
       "    <tr>\n",
       "      <th>1</th>\n",
       "      <td>Akshat mehta</td>\n",
       "      <td>2246</td>\n",
       "      <td>R.O</td>\n",
       "      <td>Jamshedpur</td>\n",
       "      <td>Marketing</td>\n",
       "      <td>6yrs</td>\n",
       "      <td>255000</td>\n",
       "      <td>yes</td>\n",
       "      <td>708.33</td>\n",
       "    </tr>\n",
       "    <tr>\n",
       "      <th>2</th>\n",
       "      <td>rahul singh</td>\n",
       "      <td>2247</td>\n",
       "      <td>H.O</td>\n",
       "      <td>Delhi</td>\n",
       "      <td>project mgmt</td>\n",
       "      <td>2yrs</td>\n",
       "      <td>350000</td>\n",
       "      <td>yes</td>\n",
       "      <td>972.20</td>\n",
       "    </tr>\n",
       "    <tr>\n",
       "      <th>3</th>\n",
       "      <td>Akshat mehta</td>\n",
       "      <td>2217</td>\n",
       "      <td>D.O</td>\n",
       "      <td>Mumbai</td>\n",
       "      <td>production</td>\n",
       "      <td>9yrs</td>\n",
       "      <td>300000</td>\n",
       "      <td>yes</td>\n",
       "      <td>833.33</td>\n",
       "    </tr>\n",
       "    <tr>\n",
       "      <th>4</th>\n",
       "      <td>Arpita kumari</td>\n",
       "      <td>2125</td>\n",
       "      <td>H.O</td>\n",
       "      <td>Lucknow</td>\n",
       "      <td>procurement</td>\n",
       "      <td>7yrs</td>\n",
       "      <td>400000</td>\n",
       "      <td>yes</td>\n",
       "      <td>1111.10</td>\n",
       "    </tr>\n",
       "    <tr>\n",
       "      <th>5</th>\n",
       "      <td>Anand sethi</td>\n",
       "      <td>2128</td>\n",
       "      <td>D.O</td>\n",
       "      <td>Delhi</td>\n",
       "      <td>Sales</td>\n",
       "      <td>1yrs</td>\n",
       "      <td>250000</td>\n",
       "      <td>yes</td>\n",
       "      <td>694.43</td>\n",
       "    </tr>\n",
       "    <tr>\n",
       "      <th>6</th>\n",
       "      <td>Akshita singh</td>\n",
       "      <td>2129</td>\n",
       "      <td>H.O</td>\n",
       "      <td>Delhi</td>\n",
       "      <td>Marketing</td>\n",
       "      <td>2yrs</td>\n",
       "      <td>255000</td>\n",
       "      <td>yes</td>\n",
       "      <td>708.33</td>\n",
       "    </tr>\n",
       "    <tr>\n",
       "      <th>7</th>\n",
       "      <td>Abhi bhatt</td>\n",
       "      <td>2321</td>\n",
       "      <td>D.O</td>\n",
       "      <td>kolkata</td>\n",
       "      <td>procurement</td>\n",
       "      <td>4yrs</td>\n",
       "      <td>400000</td>\n",
       "      <td>yes</td>\n",
       "      <td>1111.10</td>\n",
       "    </tr>\n",
       "    <tr>\n",
       "      <th>8</th>\n",
       "      <td>saurav kuamr</td>\n",
       "      <td>2350</td>\n",
       "      <td>D.O</td>\n",
       "      <td>Kolkata</td>\n",
       "      <td>project mgmt</td>\n",
       "      <td>5yrs</td>\n",
       "      <td>350000</td>\n",
       "      <td>yes</td>\n",
       "      <td>972.22</td>\n",
       "    </tr>\n",
       "    <tr>\n",
       "      <th>9</th>\n",
       "      <td>NaN</td>\n",
       "      <td>9</td>\n",
       "      <td>NaN</td>\n",
       "      <td>NaN</td>\n",
       "      <td>NaN</td>\n",
       "      <td>NaN</td>\n",
       "      <td>2810000</td>\n",
       "      <td>NaN</td>\n",
       "      <td>7805.47</td>\n",
       "    </tr>\n",
       "  </tbody>\n",
       "</table>\n",
       "</div>"
      ],
      "text/plain": [
       "   Employees name  empid Branch    location         Dept. emp.Retency  \\\n",
       "0  Abhishek kumar   2245    H.O  Jamshedpur         Sales        5yrs   \n",
       "1    Akshat mehta   2246    R.O  Jamshedpur     Marketing        6yrs   \n",
       "2     rahul singh   2247    H.O       Delhi  project mgmt        2yrs   \n",
       "3    Akshat mehta   2217    D.O      Mumbai    production        9yrs   \n",
       "4   Arpita kumari   2125    H.O     Lucknow   procurement        7yrs   \n",
       "5     Anand sethi   2128    D.O       Delhi         Sales        1yrs   \n",
       "6   Akshita singh   2129    H.O       Delhi     Marketing        2yrs   \n",
       "7      Abhi bhatt   2321    D.O     kolkata   procurement        4yrs   \n",
       "8    saurav kuamr   2350    D.O     Kolkata  project mgmt        5yrs   \n",
       "9             NaN      9    NaN         NaN           NaN         NaN   \n",
       "\n",
       "   Salary(P.A) Bonus yearly  wage rate/day  \n",
       "0       250000          yes         694.43  \n",
       "1       255000          yes         708.33  \n",
       "2       350000          yes         972.20  \n",
       "3       300000          yes         833.33  \n",
       "4       400000          yes        1111.10  \n",
       "5       250000          yes         694.43  \n",
       "6       255000          yes         708.33  \n",
       "7       400000          yes        1111.10  \n",
       "8       350000          yes         972.22  \n",
       "9      2810000          NaN        7805.47  "
      ]
     },
     "execution_count": 18,
     "metadata": {},
     "output_type": "execute_result"
    }
   ],
   "source": [
    "empdata1"
   ]
  },
  {
   "cell_type": "code",
   "execution_count": 19,
   "id": "12f8b4f7",
   "metadata": {},
   "outputs": [
    {
     "name": "stdout",
     "output_type": "stream",
     "text": [
      "Enter the name of the employee from above listAnand sethi\n"
     ]
    }
   ],
   "source": [
    "empdata1 =input(\"Enter the name of the employee from above list\")"
   ]
  },
  {
   "cell_type": "code",
   "execution_count": 22,
   "id": "07e01cf8",
   "metadata": {},
   "outputs": [
    {
     "data": {
      "text/plain": [
       "'Anand sethi'"
      ]
     },
     "execution_count": 22,
     "metadata": {},
     "output_type": "execute_result"
    }
   ],
   "source": [
    "empdata1\n"
   ]
  },
  {
   "cell_type": "code",
   "execution_count": 23,
   "id": "1167559a",
   "metadata": {},
   "outputs": [],
   "source": [
    "# run this input  for multiple users/employees."
   ]
  },
  {
   "cell_type": "code",
   "execution_count": 31,
   "id": "f5fcf4a3",
   "metadata": {},
   "outputs": [],
   "source": [
    "employee1list = [\"Abhishek kumar\",2245,'H.O','Jamshedpur','sales',5.0,250000,'yes',694.43]"
   ]
  },
  {
   "cell_type": "code",
   "execution_count": 32,
   "id": "80b5700b",
   "metadata": {},
   "outputs": [
    {
     "data": {
      "text/plain": [
       "['Abhishek kumar',\n",
       " 2245,\n",
       " 'H.O',\n",
       " 'Jamshedpur',\n",
       " 'sales',\n",
       " 5.0,\n",
       " 250000,\n",
       " 'yes',\n",
       " 694.43]"
      ]
     },
     "execution_count": 32,
     "metadata": {},
     "output_type": "execute_result"
    }
   ],
   "source": [
    "employee1list"
   ]
  },
  {
   "cell_type": "code",
   "execution_count": 26,
   "id": "e425b87c",
   "metadata": {},
   "outputs": [],
   "source": [
    "# above is  the dataset of emp1 abhishek kumar. inside a list function"
   ]
  },
  {
   "cell_type": "code",
   "execution_count": 33,
   "id": "70070454",
   "metadata": {},
   "outputs": [],
   "source": [
    "employee2list = [\"Akshat mehta\",2246,'R.O','Jamshedpur','Marketing',6.0,255000,'yes',708.33]"
   ]
  },
  {
   "cell_type": "code",
   "execution_count": 34,
   "id": "8c715939",
   "metadata": {},
   "outputs": [
    {
     "data": {
      "text/plain": [
       "['Akshat mehta',\n",
       " 2246,\n",
       " 'R.O',\n",
       " 'Jamshedpur',\n",
       " 'Marketing',\n",
       " 6.0,\n",
       " 255000,\n",
       " 'yes',\n",
       " 708.33]"
      ]
     },
     "execution_count": 34,
     "metadata": {},
     "output_type": "execute_result"
    }
   ],
   "source": [
    "employee2list"
   ]
  },
  {
   "cell_type": "code",
   "execution_count": 35,
   "id": "f3691be3",
   "metadata": {},
   "outputs": [],
   "source": [
    "# above is the dataset of emp2 Akshat mehta inside a list funtion"
   ]
  },
  {
   "cell_type": "code",
   "execution_count": 36,
   "id": "1222c651",
   "metadata": {},
   "outputs": [],
   "source": [
    "check = \"type\""
   ]
  },
  {
   "cell_type": "code",
   "execution_count": 37,
   "id": "3d719eea",
   "metadata": {},
   "outputs": [
    {
     "data": {
      "text/plain": [
       "str"
      ]
     },
     "execution_count": 37,
     "metadata": {},
     "output_type": "execute_result"
    }
   ],
   "source": [
    "type(check)"
   ]
  },
  {
   "cell_type": "code",
   "execution_count": 38,
   "id": "66af9ebc",
   "metadata": {},
   "outputs": [
    {
     "data": {
      "text/plain": [
       "list"
      ]
     },
     "execution_count": 38,
     "metadata": {},
     "output_type": "execute_result"
    }
   ],
   "source": [
    "type(employee2list)"
   ]
  },
  {
   "cell_type": "code",
   "execution_count": 40,
   "id": "0ed8dd92",
   "metadata": {},
   "outputs": [],
   "source": [
    "# above shows the type of data structures is used to store the data of above  2employees."
   ]
  },
  {
   "cell_type": "code",
   "execution_count": 52,
   "id": "668d1259",
   "metadata": {},
   "outputs": [],
   "source": [
    "totalsalary= [250000**2+300000+350000**2+400000**2+255000]"
   ]
  },
  {
   "cell_type": "code",
   "execution_count": 53,
   "id": "0874d9e2",
   "metadata": {},
   "outputs": [
    {
     "data": {
      "text/plain": [
       "[345000555000]"
      ]
     },
     "execution_count": 53,
     "metadata": {},
     "output_type": "execute_result"
    }
   ],
   "source": [
    "totalsalary"
   ]
  },
  {
   "cell_type": "code",
   "execution_count": 56,
   "id": "5a390d23",
   "metadata": {},
   "outputs": [
    {
     "data": {
      "text/plain": [
       "list"
      ]
     },
     "execution_count": 56,
     "metadata": {},
     "output_type": "execute_result"
    }
   ],
   "source": [
    "type(totalsalary)"
   ]
  },
  {
   "cell_type": "markdown",
   "id": "d75c1e3f",
   "metadata": {},
   "source": [
    "employee salary comparasions yearly \n"
   ]
  },
  {
   "cell_type": "code",
   "execution_count": 67,
   "id": "ff80bf94",
   "metadata": {},
   "outputs": [],
   "source": [
    "emp = 'Name of employee is here'"
   ]
  },
  {
   "cell_type": "code",
   "execution_count": 68,
   "id": "a2a21157",
   "metadata": {},
   "outputs": [
    {
     "data": {
      "text/plain": [
       "'Name of employee is here'"
      ]
     },
     "execution_count": 68,
     "metadata": {},
     "output_type": "execute_result"
    }
   ],
   "source": [
    "emp"
   ]
  },
  {
   "cell_type": "code",
   "execution_count": 69,
   "id": "72b23e9b",
   "metadata": {},
   "outputs": [],
   "source": [
    "salary = \"yearly amt\""
   ]
  },
  {
   "cell_type": "code",
   "execution_count": 70,
   "id": "b4b8bc93",
   "metadata": {},
   "outputs": [
    {
     "data": {
      "text/plain": [
       "'yearly amt'"
      ]
     },
     "execution_count": 70,
     "metadata": {},
     "output_type": "execute_result"
    }
   ],
   "source": [
    "salary"
   ]
  },
  {
   "cell_type": "code",
   "execution_count": 71,
   "id": "35dba759",
   "metadata": {},
   "outputs": [],
   "source": [
    "empdata = emp+salary"
   ]
  },
  {
   "cell_type": "code",
   "execution_count": 72,
   "id": "32fc11ad",
   "metadata": {},
   "outputs": [
    {
     "data": {
      "text/plain": [
       "'Name of employee is hereyearly amt'"
      ]
     },
     "execution_count": 72,
     "metadata": {},
     "output_type": "execute_result"
    }
   ],
   "source": [
    "empdata"
   ]
  },
  {
   "cell_type": "code",
   "execution_count": 73,
   "id": "b774ed93",
   "metadata": {},
   "outputs": [
    {
     "data": {
      "text/plain": [
       "str"
      ]
     },
     "execution_count": 73,
     "metadata": {},
     "output_type": "execute_result"
    }
   ],
   "source": [
    "type(empdata)"
   ]
  },
  {
   "cell_type": "code",
   "execution_count": 74,
   "id": "79316a71",
   "metadata": {},
   "outputs": [],
   "source": [
    "listofsalary = empdata"
   ]
  },
  {
   "cell_type": "code",
   "execution_count": 76,
   "id": "1b5e352a",
   "metadata": {},
   "outputs": [
    {
     "data": {
      "text/plain": [
       "'Name of employee is hereyearly amt'"
      ]
     },
     "execution_count": 76,
     "metadata": {},
     "output_type": "execute_result"
    }
   ],
   "source": [
    "listofsalary #here in this  variable the whole salary data  will be stored()"
   ]
  },
  {
   "cell_type": "code",
   "execution_count": 82,
   "id": "861552e9",
   "metadata": {},
   "outputs": [],
   "source": [
    "# listofsalary\n",
    "S1=250000\n",
    "S2=250000\n",
    "S3=350000\n",
    "S4=300000\n",
    "S5=400000\n",
    "S6=250000\n",
    "S7=255000\n",
    "S8=400000\n",
    "S9=350000"
   ]
  },
  {
   "cell_type": "code",
   "execution_count": 85,
   "id": "1d0f7b00",
   "metadata": {},
   "outputs": [
    {
     "data": {
      "text/plain": [
       "(250000, 250000, 350000)"
      ]
     },
     "execution_count": 85,
     "metadata": {},
     "output_type": "execute_result"
    }
   ],
   "source": [
    "S1,S2,S3"
   ]
  },
  {
   "cell_type": "code",
   "execution_count": 86,
   "id": "c2b014d8",
   "metadata": {},
   "outputs": [
    {
     "data": {
      "text/plain": [
       "True"
      ]
     },
     "execution_count": 86,
     "metadata": {},
     "output_type": "execute_result"
    }
   ],
   "source": [
    "S1>=S2"
   ]
  },
  {
   "cell_type": "code",
   "execution_count": 87,
   "id": "66229a65",
   "metadata": {},
   "outputs": [
    {
     "data": {
      "text/plain": [
       "True"
      ]
     },
     "execution_count": 87,
     "metadata": {},
     "output_type": "execute_result"
    }
   ],
   "source": [
    "S2<=S3"
   ]
  },
  {
   "cell_type": "code",
   "execution_count": 88,
   "id": "85842d17",
   "metadata": {},
   "outputs": [
    {
     "data": {
      "text/plain": [
       "False"
      ]
     },
     "execution_count": 88,
     "metadata": {},
     "output_type": "execute_result"
    }
   ],
   "source": [
    "S3>S1>S2"
   ]
  },
  {
   "cell_type": "code",
   "execution_count": 89,
   "id": "5f06306c",
   "metadata": {},
   "outputs": [
    {
     "data": {
      "text/plain": [
       "False"
      ]
     },
     "execution_count": 89,
     "metadata": {},
     "output_type": "execute_result"
    }
   ],
   "source": [
    "S3==S2==S1"
   ]
  },
  {
   "cell_type": "code",
   "execution_count": 1,
   "id": "9f6003b2",
   "metadata": {},
   "outputs": [
    {
     "name": "stdout",
     "output_type": "stream",
     "text": [
      "who have the highest amomg the three?,S1,S2,250000\n"
     ]
    }
   ],
   "source": [
    "MAXVALUE= input(\"who have the highest amomg the three?,\")"
   ]
  },
  {
   "cell_type": "code",
   "execution_count": 2,
   "id": "1b87bc95",
   "metadata": {},
   "outputs": [
    {
     "data": {
      "text/plain": [
       "'S1,S2,250000'"
      ]
     },
     "execution_count": 2,
     "metadata": {},
     "output_type": "execute_result"
    }
   ],
   "source": [
    "MAXVALUE"
   ]
  },
  {
   "cell_type": "code",
   "execution_count": 7,
   "id": "b8157345",
   "metadata": {},
   "outputs": [],
   "source": [
    "S1=250000\n",
    "S2=250000\n",
    "S3=350000\n",
    "S4=300000\n",
    "S5=400000\n",
    "S6=250000\n",
    "S7=255000\n",
    "S8=400000\n",
    "S9=350000"
   ]
  },
  {
   "cell_type": "code",
   "execution_count": 8,
   "id": "3843f768",
   "metadata": {},
   "outputs": [
    {
     "data": {
      "text/plain": [
       "(300000, 400000, 250000)"
      ]
     },
     "execution_count": 8,
     "metadata": {},
     "output_type": "execute_result"
    }
   ],
   "source": [
    "S4,S5,S6"
   ]
  },
  {
   "cell_type": "code",
   "execution_count": 9,
   "id": "19ee10f9",
   "metadata": {},
   "outputs": [
    {
     "data": {
      "text/plain": [
       "False"
      ]
     },
     "execution_count": 9,
     "metadata": {},
     "output_type": "execute_result"
    }
   ],
   "source": [
    "S4>S5"
   ]
  },
  {
   "cell_type": "code",
   "execution_count": 10,
   "id": "78d1ac60",
   "metadata": {},
   "outputs": [
    {
     "data": {
      "text/plain": [
       "True"
      ]
     },
     "execution_count": 10,
     "metadata": {},
     "output_type": "execute_result"
    }
   ],
   "source": [
    "S4<=S5"
   ]
  },
  {
   "cell_type": "code",
   "execution_count": 11,
   "id": "804d76fc",
   "metadata": {},
   "outputs": [
    {
     "data": {
      "text/plain": [
       "False"
      ]
     },
     "execution_count": 11,
     "metadata": {},
     "output_type": "execute_result"
    }
   ],
   "source": [
    "S5==S6"
   ]
  },
  {
   "cell_type": "code",
   "execution_count": 12,
   "id": "ab972c1f",
   "metadata": {},
   "outputs": [
    {
     "data": {
      "text/plain": [
       "True"
      ]
     },
     "execution_count": 12,
     "metadata": {},
     "output_type": "execute_result"
    }
   ],
   "source": [
    "S5>S6"
   ]
  },
  {
   "cell_type": "code",
   "execution_count": 14,
   "id": "1f7a25c5",
   "metadata": {},
   "outputs": [
    {
     "data": {
      "text/plain": [
       "False"
      ]
     },
     "execution_count": 14,
     "metadata": {},
     "output_type": "execute_result"
    }
   ],
   "source": [
    "S5<=S6"
   ]
  },
  {
   "cell_type": "code",
   "execution_count": 15,
   "id": "55134e1f",
   "metadata": {},
   "outputs": [
    {
     "data": {
      "text/plain": [
       "False"
      ]
     },
     "execution_count": 15,
     "metadata": {},
     "output_type": "execute_result"
    }
   ],
   "source": [
    "S4<=S5<=S6"
   ]
  },
  {
   "cell_type": "code",
   "execution_count": 16,
   "id": "f2ab20cd",
   "metadata": {},
   "outputs": [
    {
     "data": {
      "text/plain": [
       "False"
      ]
     },
     "execution_count": 16,
     "metadata": {},
     "output_type": "execute_result"
    }
   ],
   "source": [
    "S6>S4"
   ]
  },
  {
   "cell_type": "code",
   "execution_count": 3,
   "id": "23183583",
   "metadata": {},
   "outputs": [
    {
     "name": "stdout",
     "output_type": "stream",
     "text": [
      "which amt is maximum?S5,400000\n"
     ]
    }
   ],
   "source": [
    "high = input(\"which amt is maximum?\")"
   ]
  },
  {
   "cell_type": "code",
   "execution_count": 4,
   "id": "dbeff41f",
   "metadata": {},
   "outputs": [
    {
     "data": {
      "text/plain": [
       "'S5,400000'"
      ]
     },
     "execution_count": 4,
     "metadata": {},
     "output_type": "execute_result"
    }
   ],
   "source": [
    "high"
   ]
  },
  {
   "cell_type": "code",
   "execution_count": 6,
   "id": "abd2719b",
   "metadata": {},
   "outputs": [],
   "source": [
    "S7=255000\n",
    "S8=400000\n",
    "S9=350000"
   ]
  },
  {
   "cell_type": "code",
   "execution_count": 7,
   "id": "8aac17bb",
   "metadata": {},
   "outputs": [
    {
     "data": {
      "text/plain": [
       "(255000, 400000, 350000)"
      ]
     },
     "execution_count": 7,
     "metadata": {},
     "output_type": "execute_result"
    }
   ],
   "source": [
    "S7,S8,S9 # comapring the 3rd  groups"
   ]
  },
  {
   "cell_type": "code",
   "execution_count": 8,
   "id": "160bb412",
   "metadata": {},
   "outputs": [
    {
     "data": {
      "text/plain": [
       "False"
      ]
     },
     "execution_count": 8,
     "metadata": {},
     "output_type": "execute_result"
    }
   ],
   "source": [
    "S7>S8"
   ]
  },
  {
   "cell_type": "code",
   "execution_count": 10,
   "id": "6255e5e7",
   "metadata": {},
   "outputs": [
    {
     "data": {
      "text/plain": [
       "True"
      ]
     },
     "execution_count": 10,
     "metadata": {},
     "output_type": "execute_result"
    }
   ],
   "source": [
    "S7<S8"
   ]
  },
  {
   "cell_type": "code",
   "execution_count": 13,
   "id": "f48525f2",
   "metadata": {},
   "outputs": [
    {
     "data": {
      "text/plain": [
       "False"
      ]
     },
     "execution_count": 13,
     "metadata": {},
     "output_type": "execute_result"
    }
   ],
   "source": [
    "S7==S8"
   ]
  },
  {
   "cell_type": "code",
   "execution_count": 15,
   "id": "6d3ffd73",
   "metadata": {},
   "outputs": [
    {
     "data": {
      "text/plain": [
       "False"
      ]
     },
     "execution_count": 15,
     "metadata": {},
     "output_type": "execute_result"
    }
   ],
   "source": [
    "S7>=S8"
   ]
  },
  {
   "cell_type": "code",
   "execution_count": 16,
   "id": "03d8dd6f",
   "metadata": {},
   "outputs": [
    {
     "data": {
      "text/plain": [
       "False"
      ]
     },
     "execution_count": 16,
     "metadata": {},
     "output_type": "execute_result"
    }
   ],
   "source": [
    "S8<S9"
   ]
  },
  {
   "cell_type": "code",
   "execution_count": 17,
   "id": "af689805",
   "metadata": {},
   "outputs": [
    {
     "data": {
      "text/plain": [
       "False"
      ]
     },
     "execution_count": 17,
     "metadata": {},
     "output_type": "execute_result"
    }
   ],
   "source": [
    "S8==S9"
   ]
  },
  {
   "cell_type": "code",
   "execution_count": 18,
   "id": "6ba7c820",
   "metadata": {},
   "outputs": [
    {
     "data": {
      "text/plain": [
       "False"
      ]
     },
     "execution_count": 18,
     "metadata": {},
     "output_type": "execute_result"
    }
   ],
   "source": [
    "S9>S8>=S7"
   ]
  },
  {
   "cell_type": "code",
   "execution_count": 19,
   "id": "7c4809ce",
   "metadata": {},
   "outputs": [
    {
     "name": "stdout",
     "output_type": "stream",
     "text": [
      "The max value among the three isS8,400000\n"
     ]
    }
   ],
   "source": [
    "high = input(\"The max value among the three is\")"
   ]
  },
  {
   "cell_type": "code",
   "execution_count": 20,
   "id": "d5585284",
   "metadata": {},
   "outputs": [
    {
     "data": {
      "text/plain": [
       "'S8,400000'"
      ]
     },
     "execution_count": 20,
     "metadata": {},
     "output_type": "execute_result"
    }
   ],
   "source": [
    "high\n"
   ]
  },
  {
   "cell_type": "markdown",
   "id": "0d89345e",
   "metadata": {},
   "source": [
    "HIGHEST AMONG THE WHOLE GROUP"
   ]
  },
  {
   "cell_type": "code",
   "execution_count": 2,
   "id": "8ced84f6",
   "metadata": {},
   "outputs": [],
   "source": [
    "S1=250000\n",
    "S2=250000\n",
    "S3=350000\n",
    "S4=300000\n",
    "S5=400000\n",
    "S6=250000\n",
    "S7=255000\n",
    "S8=400000\n",
    "S9=350000"
   ]
  },
  {
   "cell_type": "code",
   "execution_count": 4,
   "id": "8bb21b7f",
   "metadata": {},
   "outputs": [
    {
     "data": {
      "text/plain": [
       "True"
      ]
     },
     "execution_count": 4,
     "metadata": {},
     "output_type": "execute_result"
    }
   ],
   "source": [
    "S1==S2"
   ]
  },
  {
   "cell_type": "code",
   "execution_count": 5,
   "id": "e10c8765",
   "metadata": {},
   "outputs": [
    {
     "data": {
      "text/plain": [
       "250000"
      ]
     },
     "execution_count": 5,
     "metadata": {},
     "output_type": "execute_result"
    }
   ],
   "source": [
    "S2"
   ]
  },
  {
   "cell_type": "code",
   "execution_count": 6,
   "id": "37117a2e",
   "metadata": {},
   "outputs": [
    {
     "data": {
      "text/plain": [
       "250000"
      ]
     },
     "execution_count": 6,
     "metadata": {},
     "output_type": "execute_result"
    }
   ],
   "source": [
    "250000"
   ]
  },
  {
   "cell_type": "code",
   "execution_count": 7,
   "id": "08876be6",
   "metadata": {},
   "outputs": [
    {
     "data": {
      "text/plain": [
       "False"
      ]
     },
     "execution_count": 7,
     "metadata": {},
     "output_type": "execute_result"
    }
   ],
   "source": [
    "S5>S8"
   ]
  },
  {
   "cell_type": "code",
   "execution_count": 8,
   "id": "967c05a2",
   "metadata": {},
   "outputs": [
    {
     "data": {
      "text/plain": [
       "True"
      ]
     },
     "execution_count": 8,
     "metadata": {},
     "output_type": "execute_result"
    }
   ],
   "source": [
    "S5==S8"
   ]
  },
  {
   "cell_type": "code",
   "execution_count": 12,
   "id": "15c29730",
   "metadata": {},
   "outputs": [],
   "source": [
    "S1=S2"
   ]
  },
  {
   "cell_type": "code",
   "execution_count": 13,
   "id": "4a7ecb65",
   "metadata": {},
   "outputs": [],
   "source": [
    "S5=S8"
   ]
  },
  {
   "cell_type": "code",
   "execution_count": 14,
   "id": "84bc746b",
   "metadata": {},
   "outputs": [
    {
     "data": {
      "text/plain": [
       "True"
      ]
     },
     "execution_count": 14,
     "metadata": {},
     "output_type": "execute_result"
    }
   ],
   "source": [
    "S2<S8"
   ]
  },
  {
   "cell_type": "code",
   "execution_count": 15,
   "id": "90c5fde4",
   "metadata": {},
   "outputs": [],
   "source": [
    "# so highest salary  is of employee no 8"
   ]
  },
  {
   "cell_type": "code",
   "execution_count": 16,
   "id": "93e9253d",
   "metadata": {},
   "outputs": [
    {
     "data": {
      "text/plain": [
       "400000"
      ]
     },
     "execution_count": 16,
     "metadata": {},
     "output_type": "execute_result"
    }
   ],
   "source": [
    "400000"
   ]
  },
  {
   "cell_type": "code",
   "execution_count": 17,
   "id": "f8babc6e",
   "metadata": {},
   "outputs": [
    {
     "name": "stdout",
     "output_type": "stream",
     "text": [
      "Enter the country nameIndia\n"
     ]
    }
   ],
   "source": [
    "workingoffices = input(\"Enter the country name\")"
   ]
  },
  {
   "cell_type": "code",
   "execution_count": 18,
   "id": "d637487f",
   "metadata": {},
   "outputs": [
    {
     "data": {
      "text/plain": [
       "'India'"
      ]
     },
     "execution_count": 18,
     "metadata": {},
     "output_type": "execute_result"
    }
   ],
   "source": [
    "workingoffices"
   ]
  },
  {
   "cell_type": "code",
   "execution_count": 19,
   "id": "a3c40d71",
   "metadata": {},
   "outputs": [
    {
     "name": "stdout",
     "output_type": "stream",
     "text": [
      "Enter the state nameJamshedpur,Delhi,Mumbai,Lucknow,Kolkata\n"
     ]
    }
   ],
   "source": [
    "workingstates = input(\"Enter the state name\")"
   ]
  },
  {
   "cell_type": "code",
   "execution_count": 20,
   "id": "521ec709",
   "metadata": {},
   "outputs": [
    {
     "data": {
      "text/plain": [
       "'Jamshedpur,Delhi,Mumbai,Lucknow,Kolkata'"
      ]
     },
     "execution_count": 20,
     "metadata": {},
     "output_type": "execute_result"
    }
   ],
   "source": [
    "workingstates"
   ]
  },
  {
   "cell_type": "code",
   "execution_count": 23,
   "id": "60ba80e9",
   "metadata": {},
   "outputs": [
    {
     "name": "stdout",
     "output_type": "stream",
     "text": [
      "Enter The number of H.O-total of 4\n"
     ]
    }
   ],
   "source": [
    "HOcount = input(\"Enter The number of H.O-\")"
   ]
  },
  {
   "cell_type": "code",
   "execution_count": 24,
   "id": "cf8d87c5",
   "metadata": {},
   "outputs": [
    {
     "data": {
      "text/plain": [
       "'total of 4'"
      ]
     },
     "execution_count": 24,
     "metadata": {},
     "output_type": "execute_result"
    }
   ],
   "source": [
    "HOcount"
   ]
  },
  {
   "cell_type": "code",
   "execution_count": 25,
   "id": "b712df35",
   "metadata": {},
   "outputs": [
    {
     "name": "stdout",
     "output_type": "stream",
     "text": [
      "Enter the number of R.Oonly 1\n"
     ]
    }
   ],
   "source": [
    "ROcount = input(\"Enter the number of R.O\")"
   ]
  },
  {
   "cell_type": "code",
   "execution_count": 26,
   "id": "d62ab60f",
   "metadata": {},
   "outputs": [
    {
     "data": {
      "text/plain": [
       "'only 1'"
      ]
     },
     "execution_count": 26,
     "metadata": {},
     "output_type": "execute_result"
    }
   ],
   "source": [
    "ROcount"
   ]
  },
  {
   "cell_type": "code",
   "execution_count": 27,
   "id": "06ef32b3",
   "metadata": {},
   "outputs": [
    {
     "name": "stdout",
     "output_type": "stream",
     "text": [
      "Enter the number of D.Ototal of 4\n"
     ]
    }
   ],
   "source": [
    "DOcount = input(\"Enter the number of D.O\")"
   ]
  },
  {
   "cell_type": "code",
   "execution_count": 28,
   "id": "50580fd8",
   "metadata": {},
   "outputs": [
    {
     "data": {
      "text/plain": [
       "'total of 4'"
      ]
     },
     "execution_count": 28,
     "metadata": {},
     "output_type": "execute_result"
    }
   ],
   "source": [
    "DOcount"
   ]
  },
  {
   "cell_type": "code",
   "execution_count": 29,
   "id": "65ba2d74",
   "metadata": {},
   "outputs": [],
   "source": [
    "DO = 4"
   ]
  },
  {
   "cell_type": "code",
   "execution_count": 31,
   "id": "72316e99",
   "metadata": {},
   "outputs": [
    {
     "data": {
      "text/plain": [
       "4"
      ]
     },
     "execution_count": 31,
     "metadata": {},
     "output_type": "execute_result"
    }
   ],
   "source": [
    "DO"
   ]
  },
  {
   "cell_type": "code",
   "execution_count": 32,
   "id": "e23bb01c",
   "metadata": {},
   "outputs": [
    {
     "data": {
      "text/plain": [
       "int"
      ]
     },
     "execution_count": 32,
     "metadata": {},
     "output_type": "execute_result"
    }
   ],
   "source": [
    "type(DO)\n"
   ]
  },
  {
   "cell_type": "code",
   "execution_count": 35,
   "id": "6dc42b5b",
   "metadata": {},
   "outputs": [
    {
     "data": {
      "text/plain": [
       "'4'"
      ]
     },
     "execution_count": 35,
     "metadata": {},
     "output_type": "execute_result"
    }
   ],
   "source": [
    "str(DO)\n"
   ]
  },
  {
   "cell_type": "code",
   "execution_count": 37,
   "id": "bc99b6c1",
   "metadata": {},
   "outputs": [],
   "source": [
    "RO = 1"
   ]
  },
  {
   "cell_type": "code",
   "execution_count": 38,
   "id": "53b6d997",
   "metadata": {},
   "outputs": [
    {
     "data": {
      "text/plain": [
       "1"
      ]
     },
     "execution_count": 38,
     "metadata": {},
     "output_type": "execute_result"
    }
   ],
   "source": [
    "RO"
   ]
  },
  {
   "cell_type": "code",
   "execution_count": 39,
   "id": "6f25fff1",
   "metadata": {},
   "outputs": [],
   "source": [
    "HO = 4"
   ]
  },
  {
   "cell_type": "code",
   "execution_count": 40,
   "id": "8bb1a6fe",
   "metadata": {},
   "outputs": [
    {
     "data": {
      "text/plain": [
       "4"
      ]
     },
     "execution_count": 40,
     "metadata": {},
     "output_type": "execute_result"
    }
   ],
   "source": [
    "HO"
   ]
  },
  {
   "cell_type": "code",
   "execution_count": 41,
   "id": "a2a5d2a8",
   "metadata": {},
   "outputs": [],
   "source": [
    "Totalinlets = DO+HO+RO"
   ]
  },
  {
   "cell_type": "code",
   "execution_count": 42,
   "id": "c778274e",
   "metadata": {},
   "outputs": [
    {
     "data": {
      "text/plain": [
       "9"
      ]
     },
     "execution_count": 42,
     "metadata": {},
     "output_type": "execute_result"
    }
   ],
   "source": [
    "Totalinlets"
   ]
  },
  {
   "cell_type": "code",
   "execution_count": 45,
   "id": "73986b5d",
   "metadata": {},
   "outputs": [],
   "source": [
    "InIndia = Totalinlets"
   ]
  },
  {
   "cell_type": "code",
   "execution_count": 46,
   "id": "37157964",
   "metadata": {},
   "outputs": [
    {
     "data": {
      "text/plain": [
       "9"
      ]
     },
     "execution_count": 46,
     "metadata": {},
     "output_type": "execute_result"
    }
   ],
   "source": [
    "InIndia"
   ]
  },
  {
   "cell_type": "code",
   "execution_count": 51,
   "id": "398099a9",
   "metadata": {},
   "outputs": [],
   "source": [
    "\n",
    "Tsalary = [250000+250000+350000+300000+400000+250000+255000+400000+350000]"
   ]
  },
  {
   "cell_type": "code",
   "execution_count": 52,
   "id": "af71d7be",
   "metadata": {},
   "outputs": [
    {
     "data": {
      "text/plain": [
       "[2805000]"
      ]
     },
     "execution_count": 52,
     "metadata": {},
     "output_type": "execute_result"
    }
   ],
   "source": [
    "Tsalary\n"
   ]
  },
  {
   "cell_type": "code",
   "execution_count": 53,
   "id": "cf7b95a9",
   "metadata": {},
   "outputs": [],
   "source": [
    "Avgsalary = [2805000/9]"
   ]
  },
  {
   "cell_type": "code",
   "execution_count": 54,
   "id": "2dd6a50c",
   "metadata": {},
   "outputs": [
    {
     "data": {
      "text/plain": [
       "[311666.6666666667]"
      ]
     },
     "execution_count": 54,
     "metadata": {},
     "output_type": "execute_result"
    }
   ],
   "source": [
    "Avgsalary"
   ]
  },
  {
   "cell_type": "code",
   "execution_count": 61,
   "id": "d300864c",
   "metadata": {},
   "outputs": [],
   "source": [
    "AvgsalaryInd = [312000 ,'approx']"
   ]
  },
  {
   "cell_type": "code",
   "execution_count": 62,
   "id": "f13b2bff",
   "metadata": {},
   "outputs": [
    {
     "data": {
      "text/plain": [
       "[312000, 'approx']"
      ]
     },
     "execution_count": 62,
     "metadata": {},
     "output_type": "execute_result"
    }
   ],
   "source": [
    "AvgsalaryInd"
   ]
  },
  {
   "cell_type": "code",
   "execution_count": null,
   "id": "dbee0e51",
   "metadata": {},
   "outputs": [],
   "source": []
  }
 ],
 "metadata": {
  "kernelspec": {
   "display_name": "Python 3 (ipykernel)",
   "language": "python",
   "name": "python3"
  },
  "language_info": {
   "codemirror_mode": {
    "name": "ipython",
    "version": 3
   },
   "file_extension": ".py",
   "mimetype": "text/x-python",
   "name": "python",
   "nbconvert_exporter": "python",
   "pygments_lexer": "ipython3",
   "version": "3.9.7"
  }
 },
 "nbformat": 4,
 "nbformat_minor": 5
}
