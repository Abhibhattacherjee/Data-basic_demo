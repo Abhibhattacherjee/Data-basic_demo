{
 "cells": [
  {
   "cell_type": "markdown",
   "id": "55dc185b",
   "metadata": {},
   "source": [
    "sql  python with command"
   ]
  },
  {
   "cell_type": "code",
   "execution_count": 1,
   "id": "0c3b2678",
   "metadata": {},
   "outputs": [],
   "source": [
    "import  sqlite3"
   ]
  },
  {
   "cell_type": "code",
   "execution_count": 2,
   "id": "d12b143a",
   "metadata": {},
   "outputs": [],
   "source": [
    "con=sqlite3.connect(r'E:\\sql_databse\\students.db')"
   ]
  },
  {
   "cell_type": "code",
   "execution_count": 5,
   "id": "a4b6e150",
   "metadata": {},
   "outputs": [],
   "source": [
    "def sql_table(con):\n",
    "    cur=con.cursor()\n",
    "    cur.execute(\"CREATE TABLE kaksha (name varchar[65], age int, class priary key int)\")\n",
    "    con.commit()"
   ]
  },
  {
   "cell_type": "code",
   "execution_count": 6,
   "id": "79b72853",
   "metadata": {},
   "outputs": [],
   "source": [
    "con.commit;"
   ]
  },
  {
   "cell_type": "code",
   "execution_count": 7,
   "id": "19e6c1e9",
   "metadata": {},
   "outputs": [],
   "source": [
    "def sql_insert(con,entities):\n",
    "    cur=con.cursor()\n",
    "    cur.execute(\" INSERT INTO kaksha (name,age,class) values (?,?,?)\", entities)\n",
    "    con.commit()"
   ]
  },
  {
   "cell_type": "code",
   "execution_count": 8,
   "id": "ecd2907b",
   "metadata": {},
   "outputs": [],
   "source": [
    "con.commit;"
   ]
  },
  {
   "cell_type": "code",
   "execution_count": 9,
   "id": "cd71720b",
   "metadata": {},
   "outputs": [],
   "source": [
    "entities=('abhi',25,2)"
   ]
  },
  {
   "cell_type": "code",
   "execution_count": 10,
   "id": "225d3920",
   "metadata": {},
   "outputs": [
    {
     "ename": "OperationalError",
     "evalue": "table kaksha already exists",
     "output_type": "error",
     "traceback": [
      "\u001b[1;31m---------------------------------------------------------------------------\u001b[0m",
      "\u001b[1;31mOperationalError\u001b[0m                          Traceback (most recent call last)",
      "\u001b[1;32m~\\AppData\\Local\\Temp/ipykernel_17712/358691417.py\u001b[0m in \u001b[0;36m<module>\u001b[1;34m\u001b[0m\n\u001b[1;32m----> 1\u001b[1;33m \u001b[0msql_table\u001b[0m\u001b[1;33m(\u001b[0m\u001b[0mcon\u001b[0m\u001b[1;33m)\u001b[0m\u001b[1;33m\u001b[0m\u001b[1;33m\u001b[0m\u001b[0m\n\u001b[0m\u001b[0;32m      2\u001b[0m \u001b[0msql_insert\u001b[0m\u001b[1;33m(\u001b[0m\u001b[0mcon\u001b[0m\u001b[1;33m,\u001b[0m\u001b[0mentities\u001b[0m\u001b[1;33m)\u001b[0m\u001b[1;33m\u001b[0m\u001b[1;33m\u001b[0m\u001b[0m\n\u001b[0;32m      3\u001b[0m \u001b[0mcon\u001b[0m\u001b[1;33m.\u001b[0m\u001b[0mcommit\u001b[0m\u001b[1;33m\u001b[0m\u001b[1;33m\u001b[0m\u001b[0m\n\u001b[0;32m      4\u001b[0m \u001b[0mprint\u001b[0m\u001b[1;33m(\u001b[0m\u001b[0mcur\u001b[0m\u001b[1;33m.\u001b[0m\u001b[0mrowcount\u001b[0m\u001b[1;33m)\u001b[0m\u001b[1;33m\u001b[0m\u001b[1;33m\u001b[0m\u001b[0m\n",
      "\u001b[1;32m~\\AppData\\Local\\Temp/ipykernel_17712/2863414442.py\u001b[0m in \u001b[0;36msql_table\u001b[1;34m(con)\u001b[0m\n\u001b[0;32m      1\u001b[0m \u001b[1;32mdef\u001b[0m \u001b[0msql_table\u001b[0m\u001b[1;33m(\u001b[0m\u001b[0mcon\u001b[0m\u001b[1;33m)\u001b[0m\u001b[1;33m:\u001b[0m\u001b[1;33m\u001b[0m\u001b[1;33m\u001b[0m\u001b[0m\n\u001b[0;32m      2\u001b[0m     \u001b[0mcur\u001b[0m\u001b[1;33m=\u001b[0m\u001b[0mcon\u001b[0m\u001b[1;33m.\u001b[0m\u001b[0mcursor\u001b[0m\u001b[1;33m(\u001b[0m\u001b[1;33m)\u001b[0m\u001b[1;33m\u001b[0m\u001b[1;33m\u001b[0m\u001b[0m\n\u001b[1;32m----> 3\u001b[1;33m     \u001b[0mcur\u001b[0m\u001b[1;33m.\u001b[0m\u001b[0mexecute\u001b[0m\u001b[1;33m(\u001b[0m\u001b[1;34m\"CREATE TABLE kaksha (name varchar[65], age int, class priary key int)\"\u001b[0m\u001b[1;33m)\u001b[0m\u001b[1;33m\u001b[0m\u001b[1;33m\u001b[0m\u001b[0m\n\u001b[0m\u001b[0;32m      4\u001b[0m     \u001b[0mcon\u001b[0m\u001b[1;33m.\u001b[0m\u001b[0mcommit\u001b[0m\u001b[1;33m(\u001b[0m\u001b[1;33m)\u001b[0m\u001b[1;33m\u001b[0m\u001b[1;33m\u001b[0m\u001b[0m\n",
      "\u001b[1;31mOperationalError\u001b[0m: table kaksha already exists"
     ]
    }
   ],
   "source": [
    "sql_table(con)\n",
    "sql_insert(con,entities)\n",
    "con.commit\n",
    "print(cur.rowcount)"
   ]
  },
  {
   "cell_type": "code",
   "execution_count": 12,
   "id": "0108a019",
   "metadata": {},
   "outputs": [
    {
     "data": {
      "text/plain": [
       "[('abhi', 25, 2), ('abhi', 25, 2)]"
      ]
     },
     "execution_count": 12,
     "metadata": {},
     "output_type": "execute_result"
    }
   ],
   "source": [
    "results=con.execute(\"select*from kaksha\")\n",
    "results.fetchall()"
   ]
  },
  {
   "cell_type": "code",
   "execution_count": 29,
   "id": "63d7c28c",
   "metadata": {},
   "outputs": [],
   "source": [
    "entities=('kumar',29,3)\n",
    "sql_insert(con,entities)"
   ]
  },
  {
   "cell_type": "code",
   "execution_count": 30,
   "id": "b1d2da44",
   "metadata": {},
   "outputs": [],
   "source": [
    "entities=('ram',30,5)\n",
    "sql_insert(con,entities)"
   ]
  },
  {
   "cell_type": "code",
   "execution_count": 31,
   "id": "12f66b41",
   "metadata": {},
   "outputs": [],
   "source": [
    "entities=('shyam',35,6)\n",
    "sql_insert(con,entities)"
   ]
  },
  {
   "cell_type": "code",
   "execution_count": 32,
   "id": "6567a12e",
   "metadata": {},
   "outputs": [
    {
     "data": {
      "text/plain": [
       "[('abhi', 25, 2),\n",
       " ('abhi', 25, 2),\n",
       " ('kumar', 29, 3),\n",
       " ('ram', 30, 5),\n",
       " ('shyam', 35, 6)]"
      ]
     },
     "execution_count": 32,
     "metadata": {},
     "output_type": "execute_result"
    }
   ],
   "source": [
    "results=con.execute(\"select*from kaksha\")\n",
    "results.fetchall()\n"
   ]
  },
  {
   "cell_type": "markdown",
   "id": "6d9533bd",
   "metadata": {},
   "source": [
    "STARTING  SQL lite server s:E"
   ]
  },
  {
   "cell_type": "code",
   "execution_count": 17,
   "id": "b66c8e56",
   "metadata": {},
   "outputs": [],
   "source": [
    "import  sqlite3\n",
    "\n",
    "db= sqlite3.connect('relations_database.db')"
   ]
  },
  {
   "cell_type": "code",
   "execution_count": 18,
   "id": "30e16d11",
   "metadata": {},
   "outputs": [],
   "source": [
    "cur=db.cursor()       #  new   cursor  is  created here "
   ]
  },
  {
   "cell_type": "code",
   "execution_count": 5,
   "id": "da66903a",
   "metadata": {},
   "outputs": [
    {
     "data": {
      "text/plain": [
       "<sqlite3.Cursor at 0x1be833d3260>"
      ]
     },
     "execution_count": 5,
     "metadata": {},
     "output_type": "execute_result"
    }
   ],
   "source": [
    "cur.execute(\"create  table couples(name text, age int primary key, love text) \")"
   ]
  },
  {
   "cell_type": "markdown",
   "id": "3700c774",
   "metadata": {},
   "source": [
    "now inserting  data into  the  table couples"
   ]
  },
  {
   "cell_type": "code",
   "execution_count": 7,
   "id": "07f76ad1",
   "metadata": {},
   "outputs": [],
   "source": [
    "cur.execute(\"insert into  couples(name,age,love) values('xyz',25,'yes')\")\n",
    "db.commit()"
   ]
  },
  {
   "cell_type": "code",
   "execution_count": 8,
   "id": "b8e88fdd",
   "metadata": {},
   "outputs": [],
   "source": [
    "#  creating  multiple  data   for  the  above  database  table  couple"
   ]
  },
  {
   "cell_type": "code",
   "execution_count": 9,
   "id": "82c78dcc",
   "metadata": {},
   "outputs": [],
   "source": [
    "cur.execute(\"insert into  couples(name,age,love) values('bbb',24,'yes')\")\n",
    "db.commit()"
   ]
  },
  {
   "cell_type": "code",
   "execution_count": 10,
   "id": "684a372e",
   "metadata": {},
   "outputs": [],
   "source": [
    "cur.execute(\"insert into  couples(name,age,love) values('xlz',35,'yes')\")\n",
    "db.commit()"
   ]
  },
  {
   "cell_type": "code",
   "execution_count": 14,
   "id": "a6232494",
   "metadata": {},
   "outputs": [
    {
     "name": "stdout",
     "output_type": "stream",
     "text": [
      "('xyz', 25, 'yes')\n",
      "('bbb', 24, 'yes')\n",
      "('xlz', 35, 'yes')\n"
     ]
    }
   ],
   "source": [
    "results = cur .execute('select*from couples')\n",
    "for  row in results:\n",
    "    \n",
    "    print(row)"
   ]
  },
  {
   "cell_type": "code",
   "execution_count": 21,
   "id": "50ef56dd",
   "metadata": {},
   "outputs": [
    {
     "name": "stdout",
     "output_type": "stream",
     "text": [
      "2 record(s) inserted\n"
     ]
    }
   ],
   "source": [
    "cur.execute(\"insert into couples values('lll',20,'no'),('mnb',26,'yes')\")\n",
    "print(cur.rowcount,   \"record(s) inserted\")"
   ]
  },
  {
   "cell_type": "code",
   "execution_count": 24,
   "id": "3c952ef7",
   "metadata": {},
   "outputs": [],
   "source": [
    "#  creating  a  database  inside  a   folder \n",
    "db1 = sqlite3 .connect(\"E:\\sql_databse\\orginal_database.db\")\n"
   ]
  },
  {
   "cell_type": "code",
   "execution_count": 25,
   "id": "baa83551",
   "metadata": {},
   "outputs": [],
   "source": [
    "cur1 = db1.cursor()"
   ]
  },
  {
   "cell_type": "code",
   "execution_count": 26,
   "id": "3b8abaab",
   "metadata": {},
   "outputs": [
    {
     "data": {
      "text/plain": [
       "<sqlite3.Cursor at 0x1be8348c570>"
      ]
     },
     "execution_count": 26,
     "metadata": {},
     "output_type": "execute_result"
    }
   ],
   "source": [
    "cur1.execute('create table website(name text, id int primary key, length int)')\n"
   ]
  },
  {
   "cell_type": "code",
   "execution_count": 28,
   "id": "c046b7e5",
   "metadata": {},
   "outputs": [
    {
     "ename": "SyntaxError",
     "evalue": "invalid syntax (Temp/ipykernel_17324/2627223811.py, line 1)",
     "output_type": "error",
     "traceback": [
      "\u001b[1;36m  File \u001b[1;32m\"C:\\Users\\HP\\AppData\\Local\\Temp/ipykernel_17324/2627223811.py\"\u001b[1;36m, line \u001b[1;32m1\u001b[0m\n\u001b[1;33m    cur1.execute ( 'insert  into website values('aaa', 2250,235), ('bbb' 2251,238), ('ccc', 2256,239), ('ddd', 2258,240)')\u001b[0m\n\u001b[1;37m                                                 ^\u001b[0m\n\u001b[1;31mSyntaxError\u001b[0m\u001b[1;31m:\u001b[0m invalid syntax\n"
     ]
    }
   ],
   "source": [
    "cur1.execute ( 'insert  into website values('aaa', 2250,235), ('bbb' 2251,238), ('ccc', 2256,239), ('ddd', 2258,240)')\n",
    "db.commit()"
   ]
  },
  {
   "cell_type": "markdown",
   "id": "8c4fb028",
   "metadata": {},
   "source": [
    "refrential integrity"
   ]
  },
  {
   "cell_type": "code",
   "execution_count": 8,
   "id": "83664479",
   "metadata": {},
   "outputs": [],
   "source": [
    "import sqlite3\n"
   ]
  },
  {
   "cell_type": "code",
   "execution_count": 9,
   "id": "1d9fd476",
   "metadata": {},
   "outputs": [],
   "source": [
    "db1 = sqlite3.connect('E:\\sql_databse\\phrameasy_database.db')\n"
   ]
  },
  {
   "cell_type": "code",
   "execution_count": 12,
   "id": "528742fb",
   "metadata": {},
   "outputs": [],
   "source": [
    "cur= db1.cursor()  #  cursor  is  created   here "
   ]
  },
  {
   "cell_type": "code",
   "execution_count": 13,
   "id": "2d671251",
   "metadata": {},
   "outputs": [
    {
     "data": {
      "text/plain": [
       "<sqlite3.Cursor at 0x1edba2e8570>"
      ]
     },
     "execution_count": 13,
     "metadata": {},
     "output_type": "execute_result"
    }
   ],
   "source": [
    "cur.execute(\"create  table  orders(cosname text, batchid int Primary key, sellingyear int)\")"
   ]
  },
  {
   "cell_type": "code",
   "execution_count": 17,
   "id": "569faabf",
   "metadata": {},
   "outputs": [
    {
     "ename": "OperationalError",
     "evalue": "table products already exists",
     "output_type": "error",
     "traceback": [
      "\u001b[1;31m---------------------------------------------------------------------------\u001b[0m",
      "\u001b[1;31mOperationalError\u001b[0m                          Traceback (most recent call last)",
      "\u001b[1;32m~\\AppData\\Local\\Temp/ipykernel_10584/1116055163.py\u001b[0m in \u001b[0;36m<module>\u001b[1;34m\u001b[0m\n\u001b[1;32m----> 1\u001b[1;33m \u001b[0mcur\u001b[0m\u001b[1;33m.\u001b[0m\u001b[0mexecute\u001b[0m\u001b[1;33m(\u001b[0m\u001b[1;34m\"create  table products(pname text, pprice int, batchid int, foreign key(batchid) references orders(batchid))\"\u001b[0m\u001b[1;33m)\u001b[0m\u001b[1;33m\u001b[0m\u001b[1;33m\u001b[0m\u001b[0m\n\u001b[0m\u001b[0;32m      2\u001b[0m \u001b[1;33m\u001b[0m\u001b[0m\n\u001b[0;32m      3\u001b[0m \u001b[1;33m\u001b[0m\u001b[0m\n\u001b[0;32m      4\u001b[0m \u001b[1;31m#  here  we  have  created a  connection between  the  2  tables\u001b[0m\u001b[1;33m\u001b[0m\u001b[1;33m\u001b[0m\u001b[0m\n",
      "\u001b[1;31mOperationalError\u001b[0m: table products already exists"
     ]
    }
   ],
   "source": [
    "cur.execute(\"create  table products(pname text, pprice int, batchid int, foreign key(batchid) references orders(batchid))\")\n",
    "\n",
    "\n",
    "#  here  we  have  created a  connection between  the  2  tables"
   ]
  },
  {
   "cell_type": "code",
   "execution_count": 18,
   "id": "2ffffbdc",
   "metadata": {},
   "outputs": [
    {
     "data": {
      "text/plain": [
       "<sqlite3.Cursor at 0x1edba2e8570>"
      ]
     },
     "execution_count": 18,
     "metadata": {},
     "output_type": "execute_result"
    }
   ],
   "source": [
    "cur.execute(\"insert into orders values('Alex',2250,2019), ('Ram',3201,2016), ('bob',5410,2017)\")"
   ]
  },
  {
   "cell_type": "code",
   "execution_count": 19,
   "id": "d802711d",
   "metadata": {},
   "outputs": [
    {
     "data": {
      "text/plain": [
       "<sqlite3.Cursor at 0x1edba2e8570>"
      ]
     },
     "execution_count": 19,
     "metadata": {},
     "output_type": "execute_result"
    }
   ],
   "source": [
    "cur.execute(\"insert into products values('chloride',2500,3201),('magnesium',6500,2017),('liq-hydrogen',2100,2016)\")"
   ]
  },
  {
   "cell_type": "code",
   "execution_count": 20,
   "id": "56cc7621",
   "metadata": {},
   "outputs": [
    {
     "data": {
      "text/plain": [
       "[('Alex', 2250, 2019), ('Ram', 3201, 2016), ('bob', 5410, 2017)]"
      ]
     },
     "execution_count": 20,
     "metadata": {},
     "output_type": "execute_result"
    }
   ],
   "source": [
    "results  = cur.execute('select*from orders')\n",
    "results.fetchall()"
   ]
  },
  {
   "cell_type": "code",
   "execution_count": 21,
   "id": "3294a139",
   "metadata": {},
   "outputs": [
    {
     "data": {
      "text/plain": [
       "[('chloride', 2500, 3201),\n",
       " ('magnesium', 6500, 2017),\n",
       " ('liq-hydrogen', 2100, 2016)]"
      ]
     },
     "execution_count": 21,
     "metadata": {},
     "output_type": "execute_result"
    }
   ],
   "source": [
    "results= cur.execute('select*from products')\n",
    "results.fetchall()"
   ]
  },
  {
   "cell_type": "code",
   "execution_count": 25,
   "id": "e6221f58",
   "metadata": {},
   "outputs": [
    {
     "data": {
      "text/plain": [
       "('Ram',)"
      ]
     },
     "execution_count": 25,
     "metadata": {},
     "output_type": "execute_result"
    }
   ],
   "source": [
    "results = cur.execute(\"select cosname  from orders where sellingyear=2016\")\n",
    "results.fetchone()"
   ]
  },
  {
   "cell_type": "markdown",
   "id": "bf755a13",
   "metadata": {},
   "source": [
    "SUBQUERY"
   ]
  },
  {
   "cell_type": "code",
   "execution_count": 26,
   "id": "1973bb5d",
   "metadata": {},
   "outputs": [],
   "source": [
    "#  ITS  IS  PROCESS  OF  WRITING  A  QUERY  INSIDE  A QUERY  WHICH IS  KNOWN AS INQUERY AND OUT QUERY"
   ]
  },
  {
   "cell_type": "code",
   "execution_count": 29,
   "id": "d37e9167",
   "metadata": {},
   "outputs": [
    {
     "data": {
      "text/plain": [
       "[]"
      ]
     },
     "execution_count": 29,
     "metadata": {},
     "output_type": "execute_result"
    }
   ],
   "source": [
    "results = cur.execute(\"select*from products  where  batchid=(select batchid  from orders where cosname='bob')\")\n",
    "results.fetchall()"
   ]
  },
  {
   "cell_type": "markdown",
   "id": "d11639fa",
   "metadata": {},
   "source": [
    "SQL  WITH PYTHON COMMANDS "
   ]
  },
  {
   "cell_type": "code",
   "execution_count": 30,
   "id": "bf5abd6b",
   "metadata": {},
   "outputs": [],
   "source": [
    "import sqlite3"
   ]
  },
  {
   "cell_type": "code",
   "execution_count": 32,
   "id": "5fbb30eb",
   "metadata": {},
   "outputs": [],
   "source": [
    "conn = sqlite3.connect(r'E:\\sql_databse\\apna_college.db')"
   ]
  },
  {
   "cell_type": "code",
   "execution_count": 33,
   "id": "51e71125",
   "metadata": {},
   "outputs": [],
   "source": [
    "\n",
    "def sql_table(conn):\n",
    "    cur=conn.cursor()\n",
    "    cur.execute(\"CREATE TABLE class(name  text, age int, rollid int primary key)\")\n",
    "    conn.commit   #  created a  table  named  as class"
   ]
  },
  {
   "cell_type": "code",
   "execution_count": 34,
   "id": "f4b1a821",
   "metadata": {},
   "outputs": [],
   "source": [
    "\n",
    "def sql_insert(conn,entities):\n",
    "    cur=conn.cursor()\n",
    "    cur.execute(\"INSERT INTO class(name,age,rollid), values(?,?,?)\", entities)\n",
    "    conn.commit\n",
    "\n",
    "# inserted  some  values  into the  table  class"
   ]
  },
  {
   "cell_type": "code",
   "execution_count": 35,
   "id": "ba0c3643",
   "metadata": {},
   "outputs": [],
   "source": [
    "\n",
    "entities=('Abhi',24,12)"
   ]
  },
  {
   "cell_type": "code",
   "execution_count": 44,
   "id": "46088255",
   "metadata": {},
   "outputs": [
    {
     "ename": "OperationalError",
     "evalue": "table class already exists",
     "output_type": "error",
     "traceback": [
      "\u001b[1;31m---------------------------------------------------------------------------\u001b[0m",
      "\u001b[1;31mOperationalError\u001b[0m                          Traceback (most recent call last)",
      "\u001b[1;32m~\\AppData\\Local\\Temp/ipykernel_10584/907099523.py\u001b[0m in \u001b[0;36m<module>\u001b[1;34m\u001b[0m\n\u001b[1;32m----> 1\u001b[1;33m \u001b[0msql_table\u001b[0m\u001b[1;33m(\u001b[0m\u001b[0mconn\u001b[0m\u001b[1;33m)\u001b[0m\u001b[1;33m\u001b[0m\u001b[1;33m\u001b[0m\u001b[0m\n\u001b[0m\u001b[0;32m      2\u001b[0m \u001b[0msql_insert\u001b[0m\u001b[1;33m(\u001b[0m\u001b[0mconn\u001b[0m \u001b[1;33m,\u001b[0m\u001b[0mentities\u001b[0m\u001b[1;33m)\u001b[0m\u001b[1;33m\u001b[0m\u001b[1;33m\u001b[0m\u001b[0m\n\u001b[0;32m      3\u001b[0m \u001b[0mconn\u001b[0m\u001b[1;33m.\u001b[0m\u001b[0mcommit\u001b[0m\u001b[1;33m\u001b[0m\u001b[1;33m\u001b[0m\u001b[0m\n\u001b[0;32m      4\u001b[0m \u001b[0mprint\u001b[0m\u001b[1;33m(\u001b[0m\u001b[0mcur\u001b[0m\u001b[1;33m.\u001b[0m\u001b[0mrowcount\u001b[0m \u001b[1;33m)\u001b[0m\u001b[1;33m\u001b[0m\u001b[1;33m\u001b[0m\u001b[0m\n",
      "\u001b[1;32m~\\AppData\\Local\\Temp/ipykernel_10584/4186440661.py\u001b[0m in \u001b[0;36msql_table\u001b[1;34m(conn)\u001b[0m\n\u001b[0;32m      1\u001b[0m \u001b[1;32mdef\u001b[0m \u001b[0msql_table\u001b[0m\u001b[1;33m(\u001b[0m\u001b[0mconn\u001b[0m\u001b[1;33m)\u001b[0m\u001b[1;33m:\u001b[0m\u001b[1;33m\u001b[0m\u001b[1;33m\u001b[0m\u001b[0m\n\u001b[0;32m      2\u001b[0m     \u001b[0mcur\u001b[0m\u001b[1;33m=\u001b[0m\u001b[0mconn\u001b[0m\u001b[1;33m.\u001b[0m\u001b[0mcursor\u001b[0m\u001b[1;33m(\u001b[0m\u001b[1;33m)\u001b[0m\u001b[1;33m\u001b[0m\u001b[1;33m\u001b[0m\u001b[0m\n\u001b[1;32m----> 3\u001b[1;33m     \u001b[0mcur\u001b[0m\u001b[1;33m.\u001b[0m\u001b[0mexecute\u001b[0m\u001b[1;33m(\u001b[0m\u001b[1;34m\"CREATE TABLE class(name  text, age int, rollid int primary key)\"\u001b[0m\u001b[1;33m)\u001b[0m\u001b[1;33m\u001b[0m\u001b[1;33m\u001b[0m\u001b[0m\n\u001b[0m\u001b[0;32m      4\u001b[0m     \u001b[0mconn\u001b[0m\u001b[1;33m.\u001b[0m\u001b[0mcommit\u001b[0m\u001b[1;33m\u001b[0m\u001b[1;33m\u001b[0m\u001b[0m\n",
      "\u001b[1;31mOperationalError\u001b[0m: table class already exists"
     ]
    }
   ],
   "source": [
    "sql_table(conn)\n",
    "sql_insert(conn ,entities)\n",
    "conn.commit\n",
    "print(cur.rowcount )"
   ]
  },
  {
   "cell_type": "code",
   "execution_count": 45,
   "id": "07ec8b28",
   "metadata": {},
   "outputs": [
    {
     "ename": "OperationalError",
     "evalue": "near \",\": syntax error",
     "output_type": "error",
     "traceback": [
      "\u001b[1;31m---------------------------------------------------------------------------\u001b[0m",
      "\u001b[1;31mOperationalError\u001b[0m                          Traceback (most recent call last)",
      "\u001b[1;32m~\\AppData\\Local\\Temp/ipykernel_10584/1311426765.py\u001b[0m in \u001b[0;36m<module>\u001b[1;34m\u001b[0m\n\u001b[0;32m      1\u001b[0m \u001b[0mentities\u001b[0m\u001b[1;33m=\u001b[0m\u001b[1;33m(\u001b[0m\u001b[1;34m'kiumar'\u001b[0m\u001b[1;33m,\u001b[0m\u001b[1;36m25\u001b[0m\u001b[1;33m,\u001b[0m\u001b[1;36m10\u001b[0m\u001b[1;33m)\u001b[0m\u001b[1;33m\u001b[0m\u001b[1;33m\u001b[0m\u001b[0m\n\u001b[1;32m----> 2\u001b[1;33m \u001b[0msql_insert\u001b[0m\u001b[1;33m(\u001b[0m\u001b[0mconn\u001b[0m\u001b[1;33m,\u001b[0m\u001b[0mentities\u001b[0m\u001b[1;33m)\u001b[0m\u001b[1;33m\u001b[0m\u001b[1;33m\u001b[0m\u001b[0m\n\u001b[0m",
      "\u001b[1;32m~\\AppData\\Local\\Temp/ipykernel_10584/545865260.py\u001b[0m in \u001b[0;36msql_insert\u001b[1;34m(conn, entities)\u001b[0m\n\u001b[0;32m      1\u001b[0m \u001b[1;32mdef\u001b[0m \u001b[0msql_insert\u001b[0m\u001b[1;33m(\u001b[0m\u001b[0mconn\u001b[0m\u001b[1;33m,\u001b[0m\u001b[0mentities\u001b[0m\u001b[1;33m)\u001b[0m\u001b[1;33m:\u001b[0m\u001b[1;33m\u001b[0m\u001b[1;33m\u001b[0m\u001b[0m\n\u001b[0;32m      2\u001b[0m     \u001b[0mcur\u001b[0m\u001b[1;33m=\u001b[0m\u001b[0mconn\u001b[0m\u001b[1;33m.\u001b[0m\u001b[0mcursor\u001b[0m\u001b[1;33m(\u001b[0m\u001b[1;33m)\u001b[0m\u001b[1;33m\u001b[0m\u001b[1;33m\u001b[0m\u001b[0m\n\u001b[1;32m----> 3\u001b[1;33m     \u001b[0mcur\u001b[0m\u001b[1;33m.\u001b[0m\u001b[0mexecute\u001b[0m\u001b[1;33m(\u001b[0m\u001b[1;34m\"INSERT INTO class(name,age,rollid), values(?,?,?)\"\u001b[0m\u001b[1;33m,\u001b[0m \u001b[0mentities\u001b[0m\u001b[1;33m)\u001b[0m\u001b[1;33m\u001b[0m\u001b[1;33m\u001b[0m\u001b[0m\n\u001b[0m\u001b[0;32m      4\u001b[0m     \u001b[0mconn\u001b[0m\u001b[1;33m.\u001b[0m\u001b[0mcommit\u001b[0m\u001b[1;33m\u001b[0m\u001b[1;33m\u001b[0m\u001b[0m\n\u001b[0;32m      5\u001b[0m \u001b[1;33m\u001b[0m\u001b[0m\n",
      "\u001b[1;31mOperationalError\u001b[0m: near \",\": syntax error"
     ]
    }
   ],
   "source": [
    "entities=('kiumar',25,10)\n",
    "sql_insert(conn,entities)"
   ]
  },
  {
   "cell_type": "code",
   "execution_count": null,
   "id": "b7c3d335",
   "metadata": {},
   "outputs": [],
   "source": []
  }
 ],
 "metadata": {
  "kernelspec": {
   "display_name": "Python 3 (ipykernel)",
   "language": "python",
   "name": "python3"
  },
  "language_info": {
   "codemirror_mode": {
    "name": "ipython",
    "version": 3
   },
   "file_extension": ".py",
   "mimetype": "text/x-python",
   "name": "python",
   "nbconvert_exporter": "python",
   "pygments_lexer": "ipython3",
   "version": "3.9.7"
  }
 },
 "nbformat": 4,
 "nbformat_minor": 5
}
